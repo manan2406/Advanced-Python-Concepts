{
  "nbformat": 4,
  "nbformat_minor": 0,
  "metadata": {
    "colab": {
      "provenance": []
    },
    "kernelspec": {
      "name": "python3",
      "display_name": "Python 3"
    },
    "language_info": {
      "name": "python"
    }
  },
  "cells": [
    {
      "cell_type": "markdown",
      "source": [
        "**Iterators**"
      ],
      "metadata": {
        "id": "HS9DmEqrpyvX"
      }
    },
    {
      "cell_type": "code",
      "execution_count": null,
      "metadata": {
        "colab": {
          "base_uri": "https://localhost:8080/"
        },
        "id": "QBoVzyyyMQ5V",
        "outputId": "246780ea-90e8-4fc2-fdec-faa03d8787eb"
      },
      "outputs": [
        {
          "output_type": "stream",
          "name": "stdout",
          "text": [
            "1\n",
            "2\n",
            "3\n",
            "4\n"
          ]
        }
      ],
      "source": [
        "for i in [1,2,3,4]:\n",
        "  print(i)"
      ]
    },
    {
      "cell_type": "code",
      "source": [
        "for char in \"python\":\n",
        "  print(char)"
      ],
      "metadata": {
        "colab": {
          "base_uri": "https://localhost:8080/"
        },
        "id": "kbgXC1Z8MZgp",
        "outputId": "591f1392-38fa-4be6-cfe9-4645a3728015"
      },
      "execution_count": null,
      "outputs": [
        {
          "output_type": "stream",
          "name": "stdout",
          "text": [
            "p\n",
            "y\n",
            "t\n",
            "h\n",
            "o\n",
            "n\n"
          ]
        }
      ]
    },
    {
      "cell_type": "code",
      "source": [
        "for k in {\"x\":1,\"y\":2}:\n",
        "  print(k)"
      ],
      "metadata": {
        "colab": {
          "base_uri": "https://localhost:8080/"
        },
        "id": "SWk_6ENEMkwN",
        "outputId": "d8250e5d-0dfd-4a96-ed9f-5e8d7b85ac5e"
      },
      "execution_count": null,
      "outputs": [
        {
          "output_type": "stream",
          "name": "stdout",
          "text": [
            "x\n",
            "y\n"
          ]
        }
      ]
    },
    {
      "cell_type": "code",
      "source": [
        "for x in {1,2,3,4,5}:\n",
        "  print(x)"
      ],
      "metadata": {
        "colab": {
          "base_uri": "https://localhost:8080/"
        },
        "id": "SBKDaQt2My4x",
        "outputId": "008787b3-abed-4c81-9766-2f7bf5fd9e49"
      },
      "execution_count": null,
      "outputs": [
        {
          "output_type": "stream",
          "name": "stdout",
          "text": [
            "1\n",
            "2\n",
            "3\n",
            "4\n",
            "5\n"
          ]
        }
      ]
    },
    {
      "cell_type": "code",
      "source": [
        "for x in (1,2,3,4,5):\n",
        "  print(x)"
      ],
      "metadata": {
        "colab": {
          "base_uri": "https://localhost:8080/"
        },
        "id": "M-3OmjhANAKB",
        "outputId": "b3f16857-a965-4a7c-9fc1-79a50a8d59bb"
      },
      "execution_count": null,
      "outputs": [
        {
          "output_type": "stream",
          "name": "stdout",
          "text": [
            "1\n",
            "2\n",
            "3\n",
            "4\n",
            "5\n"
          ]
        }
      ]
    },
    {
      "cell_type": "code",
      "source": [
        "my_list = [1,2,3,4]\n",
        "\n",
        "my_iter = iter(my_list)"
      ],
      "metadata": {
        "id": "6dygikW6NE1b"
      },
      "execution_count": null,
      "outputs": []
    },
    {
      "cell_type": "code",
      "source": [
        "my_iter"
      ],
      "metadata": {
        "colab": {
          "base_uri": "https://localhost:8080/"
        },
        "id": "1lf2jeM1Ne-H",
        "outputId": "56590e79-3b9b-4d78-df44-303a77735ce5"
      },
      "execution_count": null,
      "outputs": [
        {
          "output_type": "execute_result",
          "data": {
            "text/plain": [
              "<list_iterator at 0x7968e9bf5fc0>"
            ]
          },
          "metadata": {},
          "execution_count": 9
        }
      ]
    },
    {
      "cell_type": "code",
      "source": [
        "next(my_iter)"
      ],
      "metadata": {
        "colab": {
          "base_uri": "https://localhost:8080/"
        },
        "id": "HaUXWSe1NgMr",
        "outputId": "75e02311-f3b0-4bc2-d0d5-692aaa6f9b3d"
      },
      "execution_count": null,
      "outputs": [
        {
          "output_type": "execute_result",
          "data": {
            "text/plain": [
              "1"
            ]
          },
          "metadata": {},
          "execution_count": 10
        }
      ]
    },
    {
      "cell_type": "code",
      "source": [
        "next(my_iter)"
      ],
      "metadata": {
        "colab": {
          "base_uri": "https://localhost:8080/"
        },
        "id": "1FgI2ktDNmAP",
        "outputId": "867325ac-880a-4474-93fb-89049e5a6bd8"
      },
      "execution_count": null,
      "outputs": [
        {
          "output_type": "execute_result",
          "data": {
            "text/plain": [
              "2"
            ]
          },
          "metadata": {},
          "execution_count": 11
        }
      ]
    },
    {
      "cell_type": "code",
      "source": [
        "next(my_iter)"
      ],
      "metadata": {
        "colab": {
          "base_uri": "https://localhost:8080/"
        },
        "id": "d30hLD47Noxc",
        "outputId": "06aa3a72-23d3-4d9a-d744-a0f010a71fed"
      },
      "execution_count": null,
      "outputs": [
        {
          "output_type": "execute_result",
          "data": {
            "text/plain": [
              "3"
            ]
          },
          "metadata": {},
          "execution_count": 12
        }
      ]
    },
    {
      "cell_type": "code",
      "source": [
        "next(my_iter)"
      ],
      "metadata": {
        "colab": {
          "base_uri": "https://localhost:8080/"
        },
        "id": "otHVT47INp-w",
        "outputId": "6b9932be-14bd-493d-b5cf-d12a9ecee67d"
      },
      "execution_count": null,
      "outputs": [
        {
          "output_type": "execute_result",
          "data": {
            "text/plain": [
              "4"
            ]
          },
          "metadata": {},
          "execution_count": 13
        }
      ]
    },
    {
      "cell_type": "code",
      "source": [
        "next(my_iter)"
      ],
      "metadata": {
        "colab": {
          "base_uri": "https://localhost:8080/",
          "height": 141
        },
        "id": "yLV1M8IdNqg9",
        "outputId": "0e3ab947-21b9-4e46-ef4d-06388870db2a"
      },
      "execution_count": null,
      "outputs": [
        {
          "output_type": "error",
          "ename": "StopIteration",
          "evalue": "",
          "traceback": [
            "\u001b[0;31m---------------------------------------------------------------------------\u001b[0m",
            "\u001b[0;31mStopIteration\u001b[0m                             Traceback (most recent call last)",
            "\u001b[0;32m<ipython-input-14-94a4229f6542>\u001b[0m in \u001b[0;36m<cell line: 1>\u001b[0;34m()\u001b[0m\n\u001b[0;32m----> 1\u001b[0;31m \u001b[0mnext\u001b[0m\u001b[0;34m(\u001b[0m\u001b[0mmy_iter\u001b[0m\u001b[0;34m)\u001b[0m\u001b[0;34m\u001b[0m\u001b[0;34m\u001b[0m\u001b[0m\n\u001b[0m",
            "\u001b[0;31mStopIteration\u001b[0m: "
          ]
        }
      ]
    },
    {
      "cell_type": "code",
      "source": [
        "for elements in my_list:\n",
        "  print(elements)"
      ],
      "metadata": {
        "colab": {
          "base_uri": "https://localhost:8080/"
        },
        "id": "LFoR-QBUNtLS",
        "outputId": "13a97b5f-230d-42ce-cbd4-27efa211c90f"
      },
      "execution_count": null,
      "outputs": [
        {
          "output_type": "stream",
          "name": "stdout",
          "text": [
            "1\n",
            "2\n",
            "3\n",
            "4\n"
          ]
        }
      ]
    },
    {
      "cell_type": "code",
      "source": [
        "import os"
      ],
      "metadata": {
        "id": "wRkR1S36N5-t"
      },
      "execution_count": null,
      "outputs": []
    },
    {
      "cell_type": "code",
      "source": [
        "print(dir(os))"
      ],
      "metadata": {
        "colab": {
          "base_uri": "https://localhost:8080/"
        },
        "id": "PG9XMzKXRKEA",
        "outputId": "56523417-c56d-4016-e1b4-28a73b9168d2"
      },
      "execution_count": null,
      "outputs": [
        {
          "output_type": "stream",
          "name": "stdout",
          "text": [
            "['CLD_CONTINUED', 'CLD_DUMPED', 'CLD_EXITED', 'CLD_KILLED', 'CLD_STOPPED', 'CLD_TRAPPED', 'DirEntry', 'EFD_CLOEXEC', 'EFD_NONBLOCK', 'EFD_SEMAPHORE', 'EX_CANTCREAT', 'EX_CONFIG', 'EX_DATAERR', 'EX_IOERR', 'EX_NOHOST', 'EX_NOINPUT', 'EX_NOPERM', 'EX_NOUSER', 'EX_OK', 'EX_OSERR', 'EX_OSFILE', 'EX_PROTOCOL', 'EX_SOFTWARE', 'EX_TEMPFAIL', 'EX_UNAVAILABLE', 'EX_USAGE', 'F_LOCK', 'F_OK', 'F_TEST', 'F_TLOCK', 'F_ULOCK', 'GRND_NONBLOCK', 'GRND_RANDOM', 'GenericAlias', 'MFD_ALLOW_SEALING', 'MFD_CLOEXEC', 'MFD_HUGETLB', 'MFD_HUGE_16GB', 'MFD_HUGE_16MB', 'MFD_HUGE_1GB', 'MFD_HUGE_1MB', 'MFD_HUGE_256MB', 'MFD_HUGE_2GB', 'MFD_HUGE_2MB', 'MFD_HUGE_32MB', 'MFD_HUGE_512KB', 'MFD_HUGE_512MB', 'MFD_HUGE_64KB', 'MFD_HUGE_8MB', 'MFD_HUGE_MASK', 'MFD_HUGE_SHIFT', 'Mapping', 'MutableMapping', 'NGROUPS_MAX', 'O_ACCMODE', 'O_APPEND', 'O_ASYNC', 'O_CLOEXEC', 'O_CREAT', 'O_DIRECT', 'O_DIRECTORY', 'O_DSYNC', 'O_EXCL', 'O_FSYNC', 'O_LARGEFILE', 'O_NDELAY', 'O_NOATIME', 'O_NOCTTY', 'O_NOFOLLOW', 'O_NONBLOCK', 'O_PATH', 'O_RDONLY', 'O_RDWR', 'O_RSYNC', 'O_SYNC', 'O_TMPFILE', 'O_TRUNC', 'O_WRONLY', 'POSIX_FADV_DONTNEED', 'POSIX_FADV_NOREUSE', 'POSIX_FADV_NORMAL', 'POSIX_FADV_RANDOM', 'POSIX_FADV_SEQUENTIAL', 'POSIX_FADV_WILLNEED', 'POSIX_SPAWN_CLOSE', 'POSIX_SPAWN_DUP2', 'POSIX_SPAWN_OPEN', 'PRIO_PGRP', 'PRIO_PROCESS', 'PRIO_USER', 'P_ALL', 'P_NOWAIT', 'P_NOWAITO', 'P_PGID', 'P_PID', 'P_PIDFD', 'P_WAIT', 'PathLike', 'RTLD_DEEPBIND', 'RTLD_GLOBAL', 'RTLD_LAZY', 'RTLD_LOCAL', 'RTLD_NODELETE', 'RTLD_NOLOAD', 'RTLD_NOW', 'RWF_APPEND', 'RWF_DSYNC', 'RWF_HIPRI', 'RWF_NOWAIT', 'RWF_SYNC', 'R_OK', 'SCHED_BATCH', 'SCHED_FIFO', 'SCHED_IDLE', 'SCHED_OTHER', 'SCHED_RESET_ON_FORK', 'SCHED_RR', 'SEEK_CUR', 'SEEK_DATA', 'SEEK_END', 'SEEK_HOLE', 'SEEK_SET', 'SPLICE_F_MORE', 'SPLICE_F_MOVE', 'SPLICE_F_NONBLOCK', 'ST_APPEND', 'ST_MANDLOCK', 'ST_NOATIME', 'ST_NODEV', 'ST_NODIRATIME', 'ST_NOEXEC', 'ST_NOSUID', 'ST_RDONLY', 'ST_RELATIME', 'ST_SYNCHRONOUS', 'ST_WRITE', 'TMP_MAX', 'WCONTINUED', 'WCOREDUMP', 'WEXITED', 'WEXITSTATUS', 'WIFCONTINUED', 'WIFEXITED', 'WIFSIGNALED', 'WIFSTOPPED', 'WNOHANG', 'WNOWAIT', 'WSTOPPED', 'WSTOPSIG', 'WTERMSIG', 'WUNTRACED', 'W_OK', 'XATTR_CREATE', 'XATTR_REPLACE', 'XATTR_SIZE_MAX', 'X_OK', '_Environ', '__all__', '__builtins__', '__cached__', '__doc__', '__file__', '__loader__', '__name__', '__package__', '__spec__', '_check_methods', '_execvpe', '_exists', '_exit', '_fspath', '_fwalk', '_get_exports_list', '_spawnvef', '_walk', '_wrap_close', 'abc', 'abort', 'access', 'altsep', 'chdir', 'chmod', 'chown', 'chroot', 'close', 'closerange', 'confstr', 'confstr_names', 'copy_file_range', 'cpu_count', 'ctermid', 'curdir', 'defpath', 'device_encoding', 'devnull', 'dup', 'dup2', 'environ', 'environb', 'error', 'eventfd', 'eventfd_read', 'eventfd_write', 'execl', 'execle', 'execlp', 'execlpe', 'execv', 'execve', 'execvp', 'execvpe', 'extsep', 'fchdir', 'fchmod', 'fchown', 'fdatasync', 'fdopen', 'fork', 'forkpty', 'fpathconf', 'fsdecode', 'fsencode', 'fspath', 'fstat', 'fstatvfs', 'fsync', 'ftruncate', 'fwalk', 'get_blocking', 'get_exec_path', 'get_inheritable', 'get_terminal_size', 'getcwd', 'getcwdb', 'getegid', 'getenv', 'getenvb', 'geteuid', 'getgid', 'getgrouplist', 'getgroups', 'getloadavg', 'getlogin', 'getpgid', 'getpgrp', 'getpid', 'getppid', 'getpriority', 'getrandom', 'getresgid', 'getresuid', 'getsid', 'getuid', 'getxattr', 'initgroups', 'isatty', 'kill', 'killpg', 'lchown', 'linesep', 'link', 'listdir', 'listxattr', 'lockf', 'lseek', 'lstat', 'major', 'makedev', 'makedirs', 'memfd_create', 'minor', 'mkdir', 'mkfifo', 'mknod', 'name', 'nice', 'open', 'openpty', 'pardir', 'path', 'pathconf', 'pathconf_names', 'pathsep', 'pidfd_open', 'pipe', 'pipe2', 'popen', 'posix_fadvise', 'posix_fallocate', 'posix_spawn', 'posix_spawnp', 'pread', 'preadv', 'putenv', 'pwrite', 'pwritev', 'read', 'readlink', 'readv', 'register_at_fork', 'remove', 'removedirs', 'removexattr', 'rename', 'renames', 'replace', 'rmdir', 'scandir', 'sched_get_priority_max', 'sched_get_priority_min', 'sched_getaffinity', 'sched_getparam', 'sched_getscheduler', 'sched_param', 'sched_rr_get_interval', 'sched_setaffinity', 'sched_setparam', 'sched_setscheduler', 'sched_yield', 'sendfile', 'sep', 'set_blocking', 'set_inheritable', 'setegid', 'seteuid', 'setgid', 'setgroups', 'setpgid', 'setpgrp', 'setpriority', 'setregid', 'setresgid', 'setresuid', 'setreuid', 'setsid', 'setuid', 'setxattr', 'spawnl', 'spawnle', 'spawnlp', 'spawnlpe', 'spawnv', 'spawnve', 'spawnvp', 'spawnvpe', 'splice', 'st', 'stat', 'stat_result', 'statvfs', 'statvfs_result', 'strerror', 'supports_bytes_environ', 'supports_dir_fd', 'supports_effective_ids', 'supports_fd', 'supports_follow_symlinks', 'symlink', 'sync', 'sys', 'sysconf', 'sysconf_names', 'system', 'tcgetpgrp', 'tcsetpgrp', 'terminal_size', 'times', 'times_result', 'truncate', 'ttyname', 'umask', 'uname', 'uname_result', 'unlink', 'unsetenv', 'urandom', 'utime', 'wait', 'wait3', 'wait4', 'waitid', 'waitid_result', 'waitpid', 'waitstatus_to_exitcode', 'walk', 'write', 'writev']\n"
          ]
        }
      ]
    },
    {
      "cell_type": "code",
      "source": [
        "print(os.getcwd())"
      ],
      "metadata": {
        "colab": {
          "base_uri": "https://localhost:8080/"
        },
        "id": "M538utRxRO69",
        "outputId": "c64cad86-c422-4580-bdde-d81c6f768e1f"
      },
      "execution_count": null,
      "outputs": [
        {
          "output_type": "stream",
          "name": "stdout",
          "text": [
            "/content\n"
          ]
        }
      ]
    },
    {
      "cell_type": "code",
      "source": [
        "print(os.listdir())"
      ],
      "metadata": {
        "colab": {
          "base_uri": "https://localhost:8080/"
        },
        "id": "26-kUqPGSQHN",
        "outputId": "e5f266d1-e27c-4ead-f661-8d02588e31dd"
      },
      "execution_count": null,
      "outputs": [
        {
          "output_type": "stream",
          "name": "stdout",
          "text": [
            "['.config', 'sample_data']\n"
          ]
        }
      ]
    },
    {
      "cell_type": "code",
      "source": [
        "import my_calc as calc"
      ],
      "metadata": {
        "id": "765WDdm_SsHE"
      },
      "execution_count": null,
      "outputs": []
    },
    {
      "cell_type": "code",
      "source": [
        "x = 20\n",
        "y = 30\n",
        "\n",
        "print(calc.add(x,y))\n",
        "print(calc.sub(x,y))\n",
        "print(calc.prod(x,y))\n"
      ],
      "metadata": {
        "colab": {
          "base_uri": "https://localhost:8080/"
        },
        "id": "fO40KFZdTjRh",
        "outputId": "84cabd73-4bef-4904-e6f2-da77839eaecc"
      },
      "execution_count": null,
      "outputs": [
        {
          "output_type": "stream",
          "name": "stdout",
          "text": [
            "50\n",
            "-10\n",
            "600\n"
          ]
        }
      ]
    },
    {
      "cell_type": "code",
      "source": [
        "dir(calc)"
      ],
      "metadata": {
        "id": "P_IM6sORVoAX",
        "colab": {
          "base_uri": "https://localhost:8080/"
        },
        "outputId": "0c44c498-c791-4eb9-82bd-bca7077ef543"
      },
      "execution_count": null,
      "outputs": [
        {
          "output_type": "execute_result",
          "data": {
            "text/plain": [
              "['__builtins__',\n",
              " '__cached__',\n",
              " '__doc__',\n",
              " '__file__',\n",
              " '__loader__',\n",
              " '__name__',\n",
              " '__package__',\n",
              " '__spec__',\n",
              " 'add',\n",
              " 'div',\n",
              " 'prod',\n",
              " 'sub']"
            ]
          },
          "metadata": {},
          "execution_count": 46
        }
      ]
    },
    {
      "cell_type": "code",
      "source": [
        "import sys\n",
        "sys.path"
      ],
      "metadata": {
        "colab": {
          "base_uri": "https://localhost:8080/"
        },
        "id": "Kcc4npj9XJGz",
        "outputId": "79149228-b95a-491b-b9ee-904929e538b0"
      },
      "execution_count": null,
      "outputs": [
        {
          "output_type": "execute_result",
          "data": {
            "text/plain": [
              "['/content',\n",
              " '/env/python',\n",
              " '/usr/lib/python310.zip',\n",
              " '/usr/lib/python3.10',\n",
              " '/usr/lib/python3.10/lib-dynload',\n",
              " '',\n",
              " '/usr/local/lib/python3.10/dist-packages',\n",
              " '/usr/lib/python3/dist-packages',\n",
              " '/usr/local/lib/python3.10/dist-packages/IPython/extensions',\n",
              " '/usr/local/lib/python3.10/dist-packages/setuptools/_vendor',\n",
              " '/root/.ipython']"
            ]
          },
          "metadata": {},
          "execution_count": 49
        }
      ]
    },
    {
      "cell_type": "code",
      "source": [
        "import mod1, mod2"
      ],
      "metadata": {
        "id": "TEli1fTkXfX0"
      },
      "execution_count": null,
      "outputs": []
    },
    {
      "cell_type": "code",
      "source": [
        "mod1.foo()"
      ],
      "metadata": {
        "colab": {
          "base_uri": "https://localhost:8080/"
        },
        "id": "hx_TirlRc0Un",
        "outputId": "1dfd5774-3aa6-4d81-8ef6-8d13dba9bfce"
      },
      "execution_count": null,
      "outputs": [
        {
          "output_type": "stream",
          "name": "stdout",
          "text": [
            "[mod1] foo()\n"
          ]
        }
      ]
    },
    {
      "cell_type": "code",
      "source": [
        "mod2.bar()"
      ],
      "metadata": {
        "colab": {
          "base_uri": "https://localhost:8080/"
        },
        "id": "JLzB0fw9c6JU",
        "outputId": "93440787-ae14-434a-a3c1-c98d55e23b89"
      },
      "execution_count": null,
      "outputs": [
        {
          "output_type": "stream",
          "name": "stdout",
          "text": [
            "[mod2] bar()\n"
          ]
        }
      ]
    },
    {
      "cell_type": "markdown",
      "source": [
        "Generators"
      ],
      "metadata": {
        "id": "8iGHMMO7koOl"
      }
    },
    {
      "cell_type": "code",
      "source": [
        "def myGenerator():\n",
        "  print(\"First Item\")\n",
        "  yield 10\n",
        "\n",
        "  print(\"Second Item\")\n",
        "  yield 20\n",
        "  return\n",
        "\n",
        "  print(\"Third Item\")\n",
        "  yield 30"
      ],
      "metadata": {
        "id": "BWKa6pPdc8Ft"
      },
      "execution_count": null,
      "outputs": []
    },
    {
      "cell_type": "code",
      "source": [
        "gen = myGenerator()"
      ],
      "metadata": {
        "id": "0p57dVB8kzUM"
      },
      "execution_count": null,
      "outputs": []
    },
    {
      "cell_type": "code",
      "source": [
        "next(gen)"
      ],
      "metadata": {
        "colab": {
          "base_uri": "https://localhost:8080/"
        },
        "id": "aqgUoY9ck52Q",
        "outputId": "38fe2738-f096-49d1-8348-c2464c8d68e6"
      },
      "execution_count": null,
      "outputs": [
        {
          "output_type": "stream",
          "name": "stdout",
          "text": [
            "First Item\n"
          ]
        },
        {
          "output_type": "execute_result",
          "data": {
            "text/plain": [
              "10"
            ]
          },
          "metadata": {},
          "execution_count": 61
        }
      ]
    },
    {
      "cell_type": "code",
      "source": [
        "next(gen)"
      ],
      "metadata": {
        "colab": {
          "base_uri": "https://localhost:8080/"
        },
        "id": "gJfblgHQk69a",
        "outputId": "a69c0187-9336-4bfe-a290-18ee701804c4"
      },
      "execution_count": null,
      "outputs": [
        {
          "output_type": "stream",
          "name": "stdout",
          "text": [
            "Second Item\n"
          ]
        },
        {
          "output_type": "execute_result",
          "data": {
            "text/plain": [
              "20"
            ]
          },
          "metadata": {},
          "execution_count": 62
        }
      ]
    },
    {
      "cell_type": "code",
      "source": [
        "def getSequneceUpTo(x):\n",
        "  for i in range(x):\n",
        "    yield i"
      ],
      "metadata": {
        "id": "_GwY9u2Hk8tw"
      },
      "execution_count": null,
      "outputs": []
    },
    {
      "cell_type": "code",
      "source": [
        "seq = getSequneceUpTo(10)"
      ],
      "metadata": {
        "id": "BiZkwL8hlBAK"
      },
      "execution_count": null,
      "outputs": []
    },
    {
      "cell_type": "code",
      "source": [
        "next(seq)"
      ],
      "metadata": {
        "colab": {
          "base_uri": "https://localhost:8080/"
        },
        "id": "12yZM7WTlyBz",
        "outputId": "e8e1a9b8-b0de-40e8-e520-028cf577bc96"
      },
      "execution_count": null,
      "outputs": [
        {
          "output_type": "execute_result",
          "data": {
            "text/plain": [
              "0"
            ]
          },
          "metadata": {},
          "execution_count": 81
        }
      ]
    },
    {
      "cell_type": "code",
      "source": [
        "next(seq)"
      ],
      "metadata": {
        "colab": {
          "base_uri": "https://localhost:8080/"
        },
        "id": "wAjhNvK5l2XT",
        "outputId": "9b01b183-b932-448d-c62d-507f8de0428f"
      },
      "execution_count": null,
      "outputs": [
        {
          "output_type": "execute_result",
          "data": {
            "text/plain": [
              "1"
            ]
          },
          "metadata": {},
          "execution_count": 82
        }
      ]
    },
    {
      "cell_type": "code",
      "source": [
        "next(seq)"
      ],
      "metadata": {
        "colab": {
          "base_uri": "https://localhost:8080/"
        },
        "id": "Xc1Iyu32l362",
        "outputId": "97ec02c8-7e29-413c-e60d-aa1030313521"
      },
      "execution_count": null,
      "outputs": [
        {
          "output_type": "execute_result",
          "data": {
            "text/plain": [
              "2"
            ]
          },
          "metadata": {},
          "execution_count": 83
        }
      ]
    },
    {
      "cell_type": "code",
      "source": [
        "next(seq)"
      ],
      "metadata": {
        "colab": {
          "base_uri": "https://localhost:8080/"
        },
        "id": "KcS0TRE7l5nR",
        "outputId": "2a062d1a-3a8e-4ee8-ef7e-4ba1100b27d5"
      },
      "execution_count": null,
      "outputs": [
        {
          "output_type": "execute_result",
          "data": {
            "text/plain": [
              "3"
            ]
          },
          "metadata": {},
          "execution_count": 84
        }
      ]
    },
    {
      "cell_type": "code",
      "source": [
        "next(seq)"
      ],
      "metadata": {
        "colab": {
          "base_uri": "https://localhost:8080/"
        },
        "id": "Cfd_Kpvjl6IP",
        "outputId": "b4e6a5ba-f1cd-405b-e2f4-0fe33298c95e"
      },
      "execution_count": null,
      "outputs": [
        {
          "output_type": "execute_result",
          "data": {
            "text/plain": [
              "4"
            ]
          },
          "metadata": {},
          "execution_count": 86
        }
      ]
    },
    {
      "cell_type": "code",
      "source": [
        "next(seq)"
      ],
      "metadata": {
        "colab": {
          "base_uri": "https://localhost:8080/"
        },
        "id": "MpfckDzsl6Rf",
        "outputId": "c1e416c0-b0b9-4078-acfb-9b40ad8348a0"
      },
      "execution_count": null,
      "outputs": [
        {
          "output_type": "execute_result",
          "data": {
            "text/plain": [
              "5"
            ]
          },
          "metadata": {},
          "execution_count": 87
        }
      ]
    },
    {
      "cell_type": "code",
      "source": [
        "next(seq)"
      ],
      "metadata": {
        "colab": {
          "base_uri": "https://localhost:8080/"
        },
        "id": "WkG70zf7l9qx",
        "outputId": "486bc413-0382-4aee-d64c-53f3c7d3aa2e"
      },
      "execution_count": null,
      "outputs": [
        {
          "output_type": "execute_result",
          "data": {
            "text/plain": [
              "6"
            ]
          },
          "metadata": {},
          "execution_count": 88
        }
      ]
    },
    {
      "cell_type": "code",
      "source": [
        "next(seq)"
      ],
      "metadata": {
        "colab": {
          "base_uri": "https://localhost:8080/"
        },
        "id": "zV94xmr8mDXb",
        "outputId": "6d0bac64-ffd1-48f3-a536-502810e71b62"
      },
      "execution_count": null,
      "outputs": [
        {
          "output_type": "execute_result",
          "data": {
            "text/plain": [
              "7"
            ]
          },
          "metadata": {},
          "execution_count": 89
        }
      ]
    },
    {
      "cell_type": "code",
      "source": [
        "next(seq)"
      ],
      "metadata": {
        "colab": {
          "base_uri": "https://localhost:8080/"
        },
        "id": "x-CMxLm8mFe-",
        "outputId": "bada9cd1-3720-425d-8d58-4687165a83d2"
      },
      "execution_count": null,
      "outputs": [
        {
          "output_type": "execute_result",
          "data": {
            "text/plain": [
              "8"
            ]
          },
          "metadata": {},
          "execution_count": 90
        }
      ]
    },
    {
      "cell_type": "code",
      "source": [
        "next(seq)"
      ],
      "metadata": {
        "colab": {
          "base_uri": "https://localhost:8080/"
        },
        "id": "RfAUuosRmGBp",
        "outputId": "973cae97-4faa-4944-9831-df08140342bd"
      },
      "execution_count": null,
      "outputs": [
        {
          "output_type": "execute_result",
          "data": {
            "text/plain": [
              "9"
            ]
          },
          "metadata": {},
          "execution_count": 91
        }
      ]
    },
    {
      "cell_type": "code",
      "source": [
        "next(seq)"
      ],
      "metadata": {
        "colab": {
          "base_uri": "https://localhost:8080/",
          "height": 141
        },
        "id": "M84yB2x1mGZz",
        "outputId": "293f9242-4a94-42a4-e9fe-c5d2ccec20d0"
      },
      "execution_count": null,
      "outputs": [
        {
          "output_type": "error",
          "ename": "StopIteration",
          "evalue": "",
          "traceback": [
            "\u001b[0;31m---------------------------------------------------------------------------\u001b[0m",
            "\u001b[0;31mStopIteration\u001b[0m                             Traceback (most recent call last)",
            "\u001b[0;32m<ipython-input-92-9b1a8856b3da>\u001b[0m in \u001b[0;36m<cell line: 1>\u001b[0;34m()\u001b[0m\n\u001b[0;32m----> 1\u001b[0;31m \u001b[0mnext\u001b[0m\u001b[0;34m(\u001b[0m\u001b[0mseq\u001b[0m\u001b[0;34m)\u001b[0m\u001b[0;34m\u001b[0m\u001b[0;34m\u001b[0m\u001b[0m\n\u001b[0m",
            "\u001b[0;31mStopIteration\u001b[0m: "
          ]
        }
      ]
    },
    {
      "cell_type": "code",
      "source": [
        "def fibonacci(max):\n",
        "  a,b = 0,1\n",
        "  while a < max:\n",
        "    yield a\n",
        "    a,b = b, a+b"
      ],
      "metadata": {
        "id": "qkxXq_OAmH3Y"
      },
      "execution_count": null,
      "outputs": []
    },
    {
      "cell_type": "code",
      "source": [
        "fib = fibonacci(10)"
      ],
      "metadata": {
        "id": "NbJpTUBzmUgI"
      },
      "execution_count": null,
      "outputs": []
    },
    {
      "cell_type": "code",
      "source": [
        "next(fib)"
      ],
      "metadata": {
        "colab": {
          "base_uri": "https://localhost:8080/"
        },
        "id": "r2Xizvx_mb2a",
        "outputId": "ec3e4f2d-0e8d-4d72-8df1-baa37a58f924"
      },
      "execution_count": null,
      "outputs": [
        {
          "output_type": "execute_result",
          "data": {
            "text/plain": [
              "0"
            ]
          },
          "metadata": {},
          "execution_count": 106
        }
      ]
    },
    {
      "cell_type": "code",
      "source": [
        "next(fib)"
      ],
      "metadata": {
        "colab": {
          "base_uri": "https://localhost:8080/"
        },
        "id": "AHM1mi9Bmgb4",
        "outputId": "ccd912b9-cb4f-42ec-d635-c54238bf44e3"
      },
      "execution_count": null,
      "outputs": [
        {
          "output_type": "execute_result",
          "data": {
            "text/plain": [
              "1"
            ]
          },
          "metadata": {},
          "execution_count": 107
        }
      ]
    },
    {
      "cell_type": "code",
      "source": [
        "next(fib)"
      ],
      "metadata": {
        "colab": {
          "base_uri": "https://localhost:8080/"
        },
        "id": "dWpyCzgbmjkL",
        "outputId": "6ef07e71-87d1-4592-bbc5-fdf347130d72"
      },
      "execution_count": null,
      "outputs": [
        {
          "output_type": "execute_result",
          "data": {
            "text/plain": [
              "1"
            ]
          },
          "metadata": {},
          "execution_count": 108
        }
      ]
    },
    {
      "cell_type": "code",
      "source": [
        "next(fib)"
      ],
      "metadata": {
        "colab": {
          "base_uri": "https://localhost:8080/"
        },
        "id": "rKli-6rLmkEH",
        "outputId": "5decc85c-f7f8-4f4d-e001-61541762a6c1"
      },
      "execution_count": null,
      "outputs": [
        {
          "output_type": "execute_result",
          "data": {
            "text/plain": [
              "2"
            ]
          },
          "metadata": {},
          "execution_count": 109
        }
      ]
    },
    {
      "cell_type": "code",
      "source": [
        "next(fib)"
      ],
      "metadata": {
        "colab": {
          "base_uri": "https://localhost:8080/"
        },
        "id": "NHvV_c7cmluy",
        "outputId": "bb90ef9f-efb0-492b-db1c-bffc2deb9215"
      },
      "execution_count": null,
      "outputs": [
        {
          "output_type": "execute_result",
          "data": {
            "text/plain": [
              "3"
            ]
          },
          "metadata": {},
          "execution_count": 110
        }
      ]
    },
    {
      "cell_type": "code",
      "source": [
        "next(fib)"
      ],
      "metadata": {
        "colab": {
          "base_uri": "https://localhost:8080/"
        },
        "id": "Yi4ygruAmmE6",
        "outputId": "22090baf-bfb1-4775-ee70-6158aad227c1"
      },
      "execution_count": null,
      "outputs": [
        {
          "output_type": "execute_result",
          "data": {
            "text/plain": [
              "5"
            ]
          },
          "metadata": {},
          "execution_count": 111
        }
      ]
    },
    {
      "cell_type": "code",
      "source": [
        "next(fib)"
      ],
      "metadata": {
        "colab": {
          "base_uri": "https://localhost:8080/"
        },
        "id": "Ln3vLkyUnams",
        "outputId": "0accdab3-996c-4227-b36d-00e572e540fb"
      },
      "execution_count": null,
      "outputs": [
        {
          "output_type": "execute_result",
          "data": {
            "text/plain": [
              "8"
            ]
          },
          "metadata": {},
          "execution_count": 112
        }
      ]
    },
    {
      "cell_type": "code",
      "source": [
        "next(fib)"
      ],
      "metadata": {
        "colab": {
          "base_uri": "https://localhost:8080/",
          "height": 141
        },
        "id": "EqixzFAQncJQ",
        "outputId": "2a713f86-a229-4cc6-81c7-7aa8779b6f68"
      },
      "execution_count": null,
      "outputs": [
        {
          "output_type": "error",
          "ename": "StopIteration",
          "evalue": "",
          "traceback": [
            "\u001b[0;31m---------------------------------------------------------------------------\u001b[0m",
            "\u001b[0;31mStopIteration\u001b[0m                             Traceback (most recent call last)",
            "\u001b[0;32m<ipython-input-113-4da7b70fa964>\u001b[0m in \u001b[0;36m<cell line: 1>\u001b[0;34m()\u001b[0m\n\u001b[0;32m----> 1\u001b[0;31m \u001b[0mnext\u001b[0m\u001b[0;34m(\u001b[0m\u001b[0mfib\u001b[0m\u001b[0;34m)\u001b[0m\u001b[0;34m\u001b[0m\u001b[0;34m\u001b[0m\u001b[0m\n\u001b[0m",
            "\u001b[0;31mStopIteration\u001b[0m: "
          ]
        }
      ]
    },
    {
      "cell_type": "markdown",
      "source": [
        "list comprehension"
      ],
      "metadata": {
        "id": "SXVWYnuangM7"
      }
    },
    {
      "cell_type": "code",
      "source": [
        "fruits = [\"apple\",\"banana\",\"cherry\",\"kiwi\",\"mango\"]\n",
        "newlist = []\n",
        "\n",
        "for x in fruits:\n",
        "  if \"a\" in x:\n",
        "    newlist.append(x)\n",
        "\n",
        "print(newlist)"
      ],
      "metadata": {
        "colab": {
          "base_uri": "https://localhost:8080/"
        },
        "id": "hNd6f4LQnf5q",
        "outputId": "2e11a74e-7da6-4467-c94b-ff88b910f7fb"
      },
      "execution_count": null,
      "outputs": [
        {
          "output_type": "stream",
          "name": "stdout",
          "text": [
            "['apple', 'banana', 'mango']\n"
          ]
        }
      ]
    },
    {
      "cell_type": "code",
      "source": [
        "fruits = [\"apple\",\"banana\",\"cherry\",\"kiwi\",\"mango\"]\n",
        "new_list = [each_fruit for each_fruit in fruits if \"a\" in each_fruit]\n",
        "print(new_list)"
      ],
      "metadata": {
        "colab": {
          "base_uri": "https://localhost:8080/"
        },
        "id": "ka3w0Yxgn6Vu",
        "outputId": "ba851c32-7145-43a7-ab77-16045a10c178"
      },
      "execution_count": null,
      "outputs": [
        {
          "output_type": "stream",
          "name": "stdout",
          "text": [
            "['apple', 'banana', 'mango']\n"
          ]
        }
      ]
    },
    {
      "cell_type": "code",
      "source": [
        "h_letters = []\n",
        "for letter in \"human\":\n",
        "  h_letters.append(letter)\n",
        "\n",
        "print(h_letters)"
      ],
      "metadata": {
        "colab": {
          "base_uri": "https://localhost:8080/"
        },
        "id": "X1Zr3Gr_oDQI",
        "outputId": "0120554d-434a-43f4-8bd5-3bac7c67b65c"
      },
      "execution_count": null,
      "outputs": [
        {
          "output_type": "stream",
          "name": "stdout",
          "text": [
            "['h', 'u', 'm', 'a', 'n']\n"
          ]
        }
      ]
    },
    {
      "cell_type": "code",
      "source": [
        "h_letter = [letter for letter in \"human\"]\n",
        "print(h_letters)"
      ],
      "metadata": {
        "colab": {
          "base_uri": "https://localhost:8080/"
        },
        "id": "-8iJrXbroj7p",
        "outputId": "63548c6d-7b7b-4e2a-d6cd-421aa9cc2376"
      },
      "execution_count": null,
      "outputs": [
        {
          "output_type": "stream",
          "name": "stdout",
          "text": [
            "['h', 'u', 'm', 'a', 'n']\n"
          ]
        }
      ]
    },
    {
      "cell_type": "code",
      "source": [
        "number_list = [x for x in range(20) if x % 2 == 0]\n",
        "print(number_list)"
      ],
      "metadata": {
        "colab": {
          "base_uri": "https://localhost:8080/"
        },
        "id": "E0nO9Itqox34",
        "outputId": "6c93643a-856e-4ab3-d100-90c1e01512e6"
      },
      "execution_count": null,
      "outputs": [
        {
          "output_type": "stream",
          "name": "stdout",
          "text": [
            "[0, 2, 4, 6, 8, 10, 12, 14, 16, 18]\n"
          ]
        }
      ]
    },
    {
      "cell_type": "code",
      "source": [
        "num_list = [y for y in range(100) if y % 2 == 0 if y % 5 == 0]\n",
        "print(num_list)"
      ],
      "metadata": {
        "colab": {
          "base_uri": "https://localhost:8080/"
        },
        "id": "HNF4q-7fpJ7S",
        "outputId": "13eb2f18-d919-471e-a871-12b70d042600"
      },
      "execution_count": null,
      "outputs": [
        {
          "output_type": "stream",
          "name": "stdout",
          "text": [
            "[0, 10, 20, 30, 40, 50, 60, 70, 80, 90]\n"
          ]
        }
      ]
    },
    {
      "cell_type": "code",
      "source": [
        "obj = [\"even\" if i  % 2 == 0 else \"odd\" for i in range(20)]\n",
        "print(obj)"
      ],
      "metadata": {
        "colab": {
          "base_uri": "https://localhost:8080/"
        },
        "id": "wQJi2LIZpa_b",
        "outputId": "65e7be47-a0f8-46c8-d972-6852b4d9cbb7"
      },
      "execution_count": null,
      "outputs": [
        {
          "output_type": "stream",
          "name": "stdout",
          "text": [
            "['even', 'odd', 'even', 'odd', 'even', 'odd', 'even', 'odd', 'even', 'odd', 'even', 'odd', 'even', 'odd', 'even', 'odd', 'even', 'odd', 'even', 'odd']\n"
          ]
        }
      ]
    },
    {
      "cell_type": "code",
      "source": [
        "def double(x):\n",
        "  return x ** 2"
      ],
      "metadata": {
        "id": "iif0n96fqDDj"
      },
      "execution_count": null,
      "outputs": []
    },
    {
      "cell_type": "code",
      "source": [
        "y = [double(x) for x in range(10)]\n",
        "y"
      ],
      "metadata": {
        "colab": {
          "base_uri": "https://localhost:8080/"
        },
        "id": "2H4H-0y4qMpD",
        "outputId": "0aeb03bb-ad9c-4d50-8288-5df6cd34c3bd"
      },
      "execution_count": null,
      "outputs": [
        {
          "output_type": "execute_result",
          "data": {
            "text/plain": [
              "[0, 1, 4, 9, 16, 25, 36, 49, 64, 81]"
            ]
          },
          "metadata": {},
          "execution_count": 10
        }
      ]
    },
    {
      "cell_type": "code",
      "source": [
        "text = \"life, uh, finds a way, in a great way indeed\"\n",
        "\n",
        "unique_vowels = {each_letter for each_letter in text if each_letter in \"aeiou\"}\n",
        "unique_vowels"
      ],
      "metadata": {
        "colab": {
          "base_uri": "https://localhost:8080/"
        },
        "id": "iCyiDAocqbWi",
        "outputId": "b14fead0-71f0-42ba-acb4-f0904582a9f7"
      },
      "execution_count": null,
      "outputs": [
        {
          "output_type": "execute_result",
          "data": {
            "text/plain": [
              "{'a', 'e', 'i', 'u'}"
            ]
          },
          "metadata": {},
          "execution_count": 12
        }
      ]
    },
    {
      "cell_type": "code",
      "source": [
        "squares = {i : i ** 2 for i in range (10)}\n",
        "squares"
      ],
      "metadata": {
        "colab": {
          "base_uri": "https://localhost:8080/"
        },
        "id": "xSPeAjMbq-dm",
        "outputId": "27fa4583-1c06-4b68-c48a-1fb18e0de3ac"
      },
      "execution_count": null,
      "outputs": [
        {
          "output_type": "execute_result",
          "data": {
            "text/plain": [
              "{0: 0, 1: 1, 2: 4, 3: 9, 4: 16, 5: 25, 6: 36, 7: 49, 8: 64, 9: 81}"
            ]
          },
          "metadata": {},
          "execution_count": 16
        }
      ]
    },
    {
      "cell_type": "code",
      "source": [
        "type(squares)"
      ],
      "metadata": {
        "colab": {
          "base_uri": "https://localhost:8080/"
        },
        "id": "QxkQwfzQr6Pb",
        "outputId": "afb975dc-b3be-4afa-ec68-deba59741c39"
      },
      "execution_count": null,
      "outputs": [
        {
          "output_type": "execute_result",
          "data": {
            "text/plain": [
              "dict"
            ]
          },
          "metadata": {},
          "execution_count": 15
        }
      ]
    },
    {
      "cell_type": "markdown",
      "source": [
        "**Key points to remember (list comprehensions)**\n",
        "\n",
        "\n",
        "\n",
        "*   List comprehension is an elegant way to define and create lists based on existing lists.\n",
        "*   List comprehension is generally more compact annd faster than normal functions and loops for creating lists.\n",
        "*   However, we should avoid writing very long list comprehensions in one line to ensure that code is user friendly.\n",
        "*   Remember, every list comprehension can be rewritten in for loop. but every for loop can't be rewritten in the form of list comprehension.\n",
        "\n",
        "\n",
        "\n",
        "\n",
        "\n"
      ],
      "metadata": {
        "id": "9DBxhPCCslVT"
      }
    },
    {
      "cell_type": "markdown",
      "source": [
        "**Regex**"
      ],
      "metadata": {
        "id": "Ylj0webwvjZZ"
      }
    },
    {
      "cell_type": "code",
      "source": [
        "import re"
      ],
      "metadata": {
        "id": "_1b0s5oSsHqx"
      },
      "execution_count": null,
      "outputs": []
    },
    {
      "cell_type": "code",
      "source": [
        "pattern = \" ^a...s$\"\n",
        "test_string = \"abyas\"\n",
        "result = re.match(pattern,test_string)\n",
        "\n",
        "if result:\n",
        "  print(\"Success\")\n",
        "else:\n",
        "  print(\"Fail\")\n"
      ],
      "metadata": {
        "colab": {
          "base_uri": "https://localhost:8080/"
        },
        "id": "J3R_ysG_t_5U",
        "outputId": "3d36a531-1574-4e4f-980b-b237e26255fd"
      },
      "execution_count": null,
      "outputs": [
        {
          "output_type": "stream",
          "name": "stdout",
          "text": [
            "Fail\n"
          ]
        }
      ]
    },
    {
      "cell_type": "markdown",
      "source": [
        "**Metacharacters are the characters that are interpreted in a spaecial way by a RegEx engine**\n",
        "\n",
        "**Here's list of metacharacters:**\n",
        "\n",
        "[].^$+?{}()\\|\n"
      ],
      "metadata": {
        "id": "W8_uUNBCvprk"
      }
    },
    {
      "cell_type": "markdown",
      "source": [
        "using re.match"
      ],
      "metadata": {
        "id": "enw6mcX7wbCz"
      }
    },
    {
      "cell_type": "code",
      "source": [
        "input_str = \"Thhhhe film Titanic was released in 1998\"\n",
        "\n",
        "result = re.match(r\"[abc]\", input_str)\n",
        "\n",
        "print(result)"
      ],
      "metadata": {
        "colab": {
          "base_uri": "https://localhost:8080/"
        },
        "id": "RmcLGO8TvPfL",
        "outputId": "425a4f72-4a19-4bfa-eca0-00a7cb1cd859"
      },
      "execution_count": null,
      "outputs": [
        {
          "output_type": "stream",
          "name": "stdout",
          "text": [
            "None\n"
          ]
        }
      ]
    },
    {
      "cell_type": "code",
      "source": [
        "input_str = \"all firm Titanic was released in 1998\"\n",
        "\n",
        "result = re.match(r\"[abc]\",input_str)\n",
        "\n",
        "print(result)"
      ],
      "metadata": {
        "colab": {
          "base_uri": "https://localhost:8080/"
        },
        "id": "x4VouqUww5xo",
        "outputId": "ebedbecd-c57a-41b7-e622-aba530cc653b"
      },
      "execution_count": null,
      "outputs": [
        {
          "output_type": "stream",
          "name": "stdout",
          "text": [
            "<re.Match object; span=(0, 1), match='a'>\n"
          ]
        }
      ]
    },
    {
      "cell_type": "markdown",
      "source": [
        "*  re.match\n",
        "it will only find matches if they occur at the start of the string being searched. otherwise it returns None.\n",
        "\n"
      ],
      "metadata": {
        "id": "vDqtirlTxTSd"
      }
    },
    {
      "cell_type": "markdown",
      "source": [
        "**using re.search(pat,str)**"
      ],
      "metadata": {
        "id": "DltC9ymRxviV"
      }
    },
    {
      "cell_type": "code",
      "source": [
        "input_str = \"film Titanic was released in 1998\"\n",
        "\n",
        "result = re.search(r\"[abc]\",input_str)\n",
        "\n",
        "print(result)"
      ],
      "metadata": {
        "colab": {
          "base_uri": "https://localhost:8080/"
        },
        "id": "8YQ1QilGxJgj",
        "outputId": "7218f887-6e75-4d62-aec2-8b66412528b8"
      },
      "execution_count": null,
      "outputs": [
        {
          "output_type": "stream",
          "name": "stdout",
          "text": [
            "<re.Match object; span=(8, 9), match='a'>\n"
          ]
        }
      ]
    },
    {
      "cell_type": "markdown",
      "source": [
        "**using findall()**"
      ],
      "metadata": {
        "id": "s-xCJZ9RyMLK"
      }
    },
    {
      "cell_type": "code",
      "source": [
        "input_str = \"111 film Titanic was released in 1998\"\n",
        "\n",
        "result = re.findall(r\"[abc]\",input_str)\n",
        "\n",
        "print(result)"
      ],
      "metadata": {
        "colab": {
          "base_uri": "https://localhost:8080/"
        },
        "id": "tSYFO1fOyAhK",
        "outputId": "e4839f55-0b61-4342-b48d-11b0cadecc48"
      },
      "execution_count": null,
      "outputs": [
        {
          "output_type": "stream",
          "name": "stdout",
          "text": [
            "['a', 'c', 'a', 'a']\n"
          ]
        }
      ]
    },
    {
      "cell_type": "markdown",
      "source": [
        "**re.search**"
      ],
      "metadata": {
        "id": "jaD1vlRDzAZW"
      }
    },
    {
      "cell_type": "markdown",
      "source": [
        "(..)period: a period matches any single character"
      ],
      "metadata": {
        "id": "G4Z5e3ne0B_4"
      }
    },
    {
      "cell_type": "code",
      "source": [
        "re.search(r'..','acde')"
      ],
      "metadata": {
        "colab": {
          "base_uri": "https://localhost:8080/"
        },
        "id": "LIODq4Q9yclq",
        "outputId": "2f588cac-49d9-4c41-e1c6-19293e9bd4c7"
      },
      "execution_count": null,
      "outputs": [
        {
          "output_type": "execute_result",
          "data": {
            "text/plain": [
              "<re.Match object; span=(0, 2), match='ac'>"
            ]
          },
          "metadata": {},
          "execution_count": 31
        }
      ]
    },
    {
      "cell_type": "code",
      "source": [
        "re.findall(r'..','acde')"
      ],
      "metadata": {
        "colab": {
          "base_uri": "https://localhost:8080/"
        },
        "id": "2GxrJI8ozJgl",
        "outputId": "70ecdcf6-a4bc-4fa4-f30a-7c3012775d3c"
      },
      "execution_count": null,
      "outputs": [
        {
          "output_type": "execute_result",
          "data": {
            "text/plain": [
              "['ac', 'de']"
            ]
          },
          "metadata": {},
          "execution_count": 32
        }
      ]
    },
    {
      "cell_type": "code",
      "source": [
        "re.findall(r'..','acdefght')"
      ],
      "metadata": {
        "colab": {
          "base_uri": "https://localhost:8080/"
        },
        "id": "POwIrSKgzPhc",
        "outputId": "20e259bf-ad26-4c65-e1e4-b4c587340695"
      },
      "execution_count": null,
      "outputs": [
        {
          "output_type": "execute_result",
          "data": {
            "text/plain": [
              "['ac', 'de', 'fg', 'ht']"
            ]
          },
          "metadata": {},
          "execution_count": 33
        }
      ]
    },
    {
      "cell_type": "markdown",
      "source": [
        "(^) Caret: used to check if the string starts with a certain character"
      ],
      "metadata": {
        "id": "xT7J9dkQzgE_"
      }
    },
    {
      "cell_type": "code",
      "source": [
        "print(re.search(r'^a','a'))\n",
        "print(re.search(r'^a','abc'))\n",
        "print(re.search(r'^a','bac'))\n",
        "print(re.search(r'^ab','abc'))\n",
        "print(re.search(r'^ab','bac'))"
      ],
      "metadata": {
        "colab": {
          "base_uri": "https://localhost:8080/"
        },
        "id": "Di-QZyvjzWAW",
        "outputId": "92991cd0-1ebe-4d36-d928-f6f882a9b9c9"
      },
      "execution_count": null,
      "outputs": [
        {
          "output_type": "stream",
          "name": "stdout",
          "text": [
            "<re.Match object; span=(0, 1), match='a'>\n"
          ]
        }
      ]
    },
    {
      "cell_type": "markdown",
      "source": [
        "**($) Dollar symbol**: is used to check if the  a string ends with a certain character."
      ],
      "metadata": {
        "id": "a25ce4UkOovK"
      }
    },
    {
      "cell_type": "code",
      "source": [
        "print(re.search(r'a$','a'))\n",
        "print(re.search(r'a$','aba'))\n",
        "print(re.search(r'a$','bac'))\n",
        "print(re.search(r'ab$','abc'))\n"
      ],
      "metadata": {
        "colab": {
          "base_uri": "https://localhost:8080/"
        },
        "id": "aQg81z-X0X6K",
        "outputId": "3c450b06-bf31-4c66-b541-18a70e1470b2"
      },
      "execution_count": null,
      "outputs": [
        {
          "output_type": "stream",
          "name": "stdout",
          "text": [
            "<re.Match object; span=(0, 1), match='a'>\n",
            "<re.Match object; span=(2, 3), match='a'>\n",
            "None\n",
            "None\n"
          ]
        }
      ]
    },
    {
      "cell_type": "markdown",
      "source": [
        "**(*) star**: checks if their are zero or more occurences of the pattern left to it"
      ],
      "metadata": {
        "id": "H4PqcfyRPGsf"
      }
    },
    {
      "cell_type": "code",
      "source": [
        "print(re.search(r'ma*n','man'))\n",
        "print(re.search(r'ma*n','maan'))\n",
        "print(re.search(r'ma*n','maaaian'))"
      ],
      "metadata": {
        "colab": {
          "base_uri": "https://localhost:8080/"
        },
        "id": "nXqC9ySbO-bz",
        "outputId": "f1aaeb1d-32dd-478d-ba23-304c71fd506f"
      },
      "execution_count": null,
      "outputs": [
        {
          "output_type": "stream",
          "name": "stdout",
          "text": [
            "<re.Match object; span=(0, 3), match='man'>\n",
            "<re.Match object; span=(0, 4), match='maan'>\n",
            "None\n"
          ]
        }
      ]
    },
    {
      "cell_type": "markdown",
      "source": [
        "**(+) plus:** matches one or more charaters left to it"
      ],
      "metadata": {
        "id": "-uwybo9EPq0z"
      }
    },
    {
      "cell_type": "code",
      "source": [
        "print(re.search(r'ma+n','man'))\n",
        "print(re.search(r'ma+n','maan'))\n",
        "print(re.search(r'ma+n','maaaian'))"
      ],
      "metadata": {
        "colab": {
          "base_uri": "https://localhost:8080/"
        },
        "id": "aqzyDWb-PaQb",
        "outputId": "63122d78-95aa-47b3-b35f-2afd53a9f144"
      },
      "execution_count": null,
      "outputs": [
        {
          "output_type": "stream",
          "name": "stdout",
          "text": [
            "<re.Match object; span=(0, 3), match='man'>\n",
            "<re.Match object; span=(0, 4), match='maan'>\n",
            "None\n"
          ]
        }
      ]
    },
    {
      "cell_type": "markdown",
      "source": [
        "**(?) question mark:** matches zero or one occurences to the pattern left to it"
      ],
      "metadata": {
        "id": "ct8p1rjFQH5u"
      }
    },
    {
      "cell_type": "code",
      "source": [
        "print(re.search(r'ma?n','man'))\n",
        "print(re.search(r'ma?n','maan'))\n",
        "print(re.search(r'ma?n','maaaian'))"
      ],
      "metadata": {
        "colab": {
          "base_uri": "https://localhost:8080/"
        },
        "id": "cZKpT0CGP80B",
        "outputId": "2f516fbb-d0a8-4df3-adfe-4788968fa382"
      },
      "execution_count": null,
      "outputs": [
        {
          "output_type": "stream",
          "name": "stdout",
          "text": [
            "<re.Match object; span=(0, 3), match='man'>\n",
            "None\n",
            "None\n"
          ]
        }
      ]
    },
    {
      "cell_type": "markdown",
      "source": [
        "**{} Braces:** at least n and at most m repetition of the pattern left to it"
      ],
      "metadata": {
        "id": "AES97tmrQjUs"
      }
    },
    {
      "cell_type": "code",
      "source": [
        "print(re.search(r'a{2,3}','abc'))\n",
        "print(re.search(r'a{2,3}','aab'))"
      ],
      "metadata": {
        "colab": {
          "base_uri": "https://localhost:8080/"
        },
        "id": "NsbNp8zHQayE",
        "outputId": "a6bfe133-4e24-4be6-b033-8f22a524c029"
      },
      "execution_count": null,
      "outputs": [
        {
          "output_type": "stream",
          "name": "stdout",
          "text": [
            "None\n",
            "<re.Match object; span=(0, 2), match='aa'>\n"
          ]
        }
      ]
    },
    {
      "cell_type": "code",
      "source": [
        "print(re.findall(r'a{2,3}','aab aaab'))"
      ],
      "metadata": {
        "colab": {
          "base_uri": "https://localhost:8080/"
        },
        "id": "rack7fLMQ0UW",
        "outputId": "b38ab99e-cd74-4067-9441-4459b35831d9"
      },
      "execution_count": null,
      "outputs": [
        {
          "output_type": "stream",
          "name": "stdout",
          "text": [
            "['aa', 'aaa']\n"
          ]
        }
      ]
    },
    {
      "cell_type": "markdown",
      "source": [
        "**combined expressions**"
      ],
      "metadata": {
        "id": "yGZPUuFRRLqx"
      }
    },
    {
      "cell_type": "markdown",
      "source": [],
      "metadata": {
        "id": "YV5zn-ysRht8"
      }
    },
    {
      "cell_type": "code",
      "source": [
        "print(re.findall(r'[0-9]{2,4}','12 123 manan 123456 1234567'))"
      ],
      "metadata": {
        "colab": {
          "base_uri": "https://localhost:8080/"
        },
        "id": "vNCVf6XcRDL4",
        "outputId": "c89a3d15-e790-40c3-ae64-f75198286c88"
      },
      "execution_count": null,
      "outputs": [
        {
          "output_type": "stream",
          "name": "stdout",
          "text": [
            "['12', '123', '1234', '56', '1234', '567']\n"
          ]
        }
      ]
    },
    {
      "cell_type": "markdown",
      "source": [
        "{m} matches exactly m repetations  of the preceding regex"
      ],
      "metadata": {
        "id": "FbTunn6XRvKs"
      }
    },
    {
      "cell_type": "code",
      "source": [
        "print(re.search('x-{3}x','xx--xx'))\n",
        "print(re.search('x-{3}x','xx---xx'))"
      ],
      "metadata": {
        "colab": {
          "base_uri": "https://localhost:8080/"
        },
        "id": "gi1p_NcfRf_S",
        "outputId": "44b06d9a-eff6-4fbe-cede-7b194f698f34"
      },
      "execution_count": null,
      "outputs": [
        {
          "output_type": "stream",
          "name": "stdout",
          "text": [
            "None\n",
            "<re.Match object; span=(1, 6), match='x---x'>\n"
          ]
        }
      ]
    },
    {
      "cell_type": "markdown",
      "source": [
        "| Alternation"
      ],
      "metadata": {
        "id": "n56QRGeoSFtb"
      }
    },
    {
      "cell_type": "code",
      "source": [
        "print(re.findall(r'a|b','abcde'))"
      ],
      "metadata": {
        "colab": {
          "base_uri": "https://localhost:8080/"
        },
        "id": "sT8g4Db2SAo9",
        "outputId": "8d171eab-d130-4957-c1a4-c07bbabf471a"
      },
      "execution_count": null,
      "outputs": [
        {
          "output_type": "stream",
          "name": "stdout",
          "text": [
            "['a', 'b']\n"
          ]
        }
      ]
    },
    {
      "cell_type": "markdown",
      "source": [
        "group ()"
      ],
      "metadata": {
        "id": "eM967j5xSWkC"
      }
    },
    {
      "cell_type": "code",
      "source": [
        "print(re.findall(r'(a|b|c)xz','axz cdzxz bxz'))"
      ],
      "metadata": {
        "colab": {
          "base_uri": "https://localhost:8080/"
        },
        "id": "edzMftIsSUfC",
        "outputId": "afcbc28f-e35d-4612-9c17-fbbad8fac090"
      },
      "execution_count": null,
      "outputs": [
        {
          "output_type": "stream",
          "name": "stdout",
          "text": [
            "['a', 'b']\n"
          ]
        }
      ]
    },
    {
      "cell_type": "markdown",
      "source": [
        "**Grouping constructs**: breaks up a regex in python into subexpressions or groups."
      ],
      "metadata": {
        "id": "AbnmN5PiSp-h"
      }
    },
    {
      "cell_type": "markdown",
      "source": [
        "**(\\) Backlach**: is used to escape various characters including all metacharacters  "
      ],
      "metadata": {
        "id": "Br9MrspTVyhK"
      }
    },
    {
      "cell_type": "code",
      "source": [
        "# \\Athe\n",
        "# check if the string starts with a the\n",
        "print(re.findall(r'\\Athe','the sun'))\n",
        "print(re.findall(r'\\Athe','a sun'))"
      ],
      "metadata": {
        "colab": {
          "base_uri": "https://localhost:8080/"
        },
        "id": "kBUPlYljSchF",
        "outputId": "ba01f5c8-304f-4fb0-9722-253d9a046983"
      },
      "execution_count": null,
      "outputs": [
        {
          "output_type": "stream",
          "name": "stdout",
          "text": [
            "['the']\n",
            "[]\n"
          ]
        }
      ]
    },
    {
      "cell_type": "code",
      "source": [
        "# \\b\n",
        "# checks for the characters in the start of the string\n",
        "# b\\\n",
        "# checks for the characters in the end of the string\n",
        "\n",
        "print(re.findall(r'\\bthe','the sun'))\n",
        "print(re.findall(r'b\\the','a sun'))"
      ],
      "metadata": {
        "colab": {
          "base_uri": "https://localhost:8080/"
        },
        "id": "8BgBzUCOWEy-",
        "outputId": "7c58930d-f33f-42e1-a814-6230e51c9d84"
      },
      "execution_count": null,
      "outputs": [
        {
          "output_type": "stream",
          "name": "stdout",
          "text": [
            "['the']\n",
            "[]\n"
          ]
        }
      ]
    },
    {
      "cell_type": "code",
      "source": [
        "# \\B\n",
        "# check only if the spacified characetrs are not at the beginning of the string\n",
        "# B\\\n",
        "# check only if the spacified characetrs are not at the end of the string\n",
        "\n",
        "print(re.search(r'\\Bthe','the sun'))\n",
        "print(re.search(r'B\\the','a sun'))\n"
      ],
      "metadata": {
        "colab": {
          "base_uri": "https://localhost:8080/"
        },
        "id": "AlJwb0oVWa1W",
        "outputId": "7e0090e5-490f-4f47-dabb-e472ed6561f7"
      },
      "execution_count": null,
      "outputs": [
        {
          "output_type": "stream",
          "name": "stdout",
          "text": [
            "None\n",
            "None\n"
          ]
        }
      ]
    },
    {
      "cell_type": "code",
      "source": [
        "#\\d matches any decimals digit. Equivalent to [0-9]\n",
        "\n",
        "print(re.findall(r'\\d','123 abc'))"
      ],
      "metadata": {
        "colab": {
          "base_uri": "https://localhost:8080/"
        },
        "id": "vOmuBk_WXAhV",
        "outputId": "a1efd752-32bf-4a9a-e4f5-56b09b1fd14d"
      },
      "execution_count": null,
      "outputs": [
        {
          "output_type": "stream",
          "name": "stdout",
          "text": [
            "['1', '2', '3']\n"
          ]
        }
      ]
    },
    {
      "cell_type": "code",
      "source": [
        "#\\D matches any non decimal digit equivalent to [0-9]\n",
        "\n",
        "print(re.findall(r'\\D','123 abc'))"
      ],
      "metadata": {
        "colab": {
          "base_uri": "https://localhost:8080/"
        },
        "id": "ehVX-lQ_XuBC",
        "outputId": "2303bcd6-0bd1-45e9-cda0-59d8afb4d967"
      },
      "execution_count": null,
      "outputs": [
        {
          "output_type": "stream",
          "name": "stdout",
          "text": [
            "[' ', 'a', 'b', 'c']\n"
          ]
        }
      ]
    },
    {
      "cell_type": "code",
      "source": [
        "#\\s matches where a string contains any whitespace characters\n",
        "# Equivalent to [\\t\\n\\r\\f\\v]\n",
        "#\\S matches where a string contains any non whitespace characters\n",
        "# Equivalent to [\\T\\N\\R\\F\\V]\n",
        "\n",
        "print(re.findall(r'\\s','123 abc'))\n",
        "print(re.findall(r'\\S','123abc'))"
      ],
      "metadata": {
        "colab": {
          "base_uri": "https://localhost:8080/"
        },
        "id": "jbPvoOyzYBHg",
        "outputId": "39889e9d-eebf-446d-f488-079cb12d188a"
      },
      "execution_count": null,
      "outputs": [
        {
          "output_type": "stream",
          "name": "stdout",
          "text": [
            "[' ']\n",
            "['1', '2', '3', 'a', 'b', 'c']\n"
          ]
        }
      ]
    },
    {
      "cell_type": "code",
      "source": [
        "# \\w matches any alphanumeric characters (digits and alphabates)\n",
        "# \\w matches any non-alphanumeric characters (digits and alphabates)\n",
        "\n",
        "print(re.findall(r'\\w','123 abc'))\n",
        "print(re.findall(r'\\W','12#$@'))\n"
      ],
      "metadata": {
        "colab": {
          "base_uri": "https://localhost:8080/"
        },
        "id": "9ofMDSZ-ZGPJ",
        "outputId": "8aff4d38-f0a9-4366-ab27-85369b5b152a"
      },
      "execution_count": null,
      "outputs": [
        {
          "output_type": "stream",
          "name": "stdout",
          "text": [
            "['1', '2', '3', 'a', 'b', 'c']\n",
            "['#', '$', '@']\n"
          ]
        }
      ]
    },
    {
      "cell_type": "code",
      "source": [
        "# \\Z matches if the specified characters are at the end of a string\n",
        "\n",
        "print(re.findall(r'sun\\Z','the run'))\n",
        "print(re.findall(r'sun\\Z','a sun'))"
      ],
      "metadata": {
        "colab": {
          "base_uri": "https://localhost:8080/"
        },
        "id": "b4pjiKRXZlpN",
        "outputId": "0e958376-58e6-4815-d62e-edc2f6a6611b"
      },
      "execution_count": null,
      "outputs": [
        {
          "output_type": "stream",
          "name": "stdout",
          "text": [
            "[]\n",
            "['sun']\n"
          ]
        }
      ]
    },
    {
      "cell_type": "markdown",
      "source": [
        "**Object Serialization**\n",
        "\n",
        "*   is the process of converting state of the object into byte stream\n",
        "*   this byte stream can further be stored in any file-like object such as disk file or memory stream\n",
        "*   it can also be transmitted via sockets etc.\n",
        "*   Deserialization i the process of reconstruction the object from the byte stream\n",
        "*   python refers to serialization and deserialization by terms pickling and unnpickling respectively\n",
        "*  the 'pickle' module bundeled with python's standard library defines functions for\n",
        "1.   serizalization (dump() and dumps())and\n",
        "2.   deserilization (load() and loads())\n",
        "*   the data fromat of pickle module is very python specific. hence programs not written in python may not be able to deserialize the encoded (pickled) data properly\n",
        "*   indfact it is considered to be secured t ounpickle data from unauthenticated source\n",
        "\n",
        "\n",
        "\n",
        "\n",
        "\n",
        "\n",
        "\n"
      ],
      "metadata": {
        "id": "YepfF_odapRj"
      }
    },
    {
      "cell_type": "code",
      "source": [
        "import pickle\n",
        "\n",
        "f = open(\"pickled.txt\",\"wb\")\n",
        "\n",
        "dct = {\"name\":\"Rajeev\",\"age\":23,\"gender\":\"male\",\"marks\":75}\n",
        "\n",
        "pickle.dump(dct,f)\n",
        "\n",
        "f.close()\n",
        "print(f)"
      ],
      "metadata": {
        "colab": {
          "base_uri": "https://localhost:8080/"
        },
        "id": "5yzki_DTaP8c",
        "outputId": "c5e60fbe-9121-4df0-9dd5-a46d7e5b390b"
      },
      "execution_count": null,
      "outputs": [
        {
          "output_type": "stream",
          "name": "stdout",
          "text": [
            "<_io.BufferedWriter name='pickled.txt'>\n"
          ]
        }
      ]
    },
    {
      "cell_type": "code",
      "source": [
        "import pickle\n",
        "\n",
        "f = open(\"pickled.txt\",\"rb\")\n",
        "\n",
        "d = pickle.load(f)\n",
        "\n",
        "print(d)\n",
        "\n",
        "f.close()"
      ],
      "metadata": {
        "colab": {
          "base_uri": "https://localhost:8080/"
        },
        "id": "MYlpM7yKd2U_",
        "outputId": "ee9e4e60-b7d6-4ea0-8c25-6d56926fd015"
      },
      "execution_count": null,
      "outputs": [
        {
          "output_type": "stream",
          "name": "stdout",
          "text": [
            "{'name': 'Rajeev', 'age': 23, 'gender': 'male', 'marks': 75}\n"
          ]
        }
      ]
    },
    {
      "cell_type": "code",
      "source": [
        "from pickle import dumps\n",
        "\n",
        "dct = {\"name\":\"manan\",\"age\":20,\"gender\":\"male\",\"marks\":75}\n",
        "\n",
        "print(dumps(dct))\n"
      ],
      "metadata": {
        "colab": {
          "base_uri": "https://localhost:8080/"
        },
        "id": "TvUlZxbbemFd",
        "outputId": "60b0ba5d-e2fd-422b-bcd9-0b36f17c91f0"
      },
      "execution_count": null,
      "outputs": [
        {
          "output_type": "stream",
          "name": "stdout",
          "text": [
            "b'\\x80\\x04\\x956\\x00\\x00\\x00\\x00\\x00\\x00\\x00}\\x94(\\x8c\\x04name\\x94\\x8c\\x05manan\\x94\\x8c\\x03age\\x94K\\x14\\x8c\\x06gender\\x94\\x8c\\x04male\\x94\\x8c\\x05marks\\x94KKu.'\n"
          ]
        }
      ]
    },
    {
      "cell_type": "code",
      "source": [
        "import pickle\n",
        "\n",
        "def storeData():\n",
        "  #initializing data to be stored in db\n",
        "  omkar = {'key' : \"Omkar\", \"name\": \"Omkar Pathak\", \"age\": 23, \"pay\": 40000}\n",
        "  Jagdish = {'key' : \"Jagdish\", \"name\": \"Jagdish Pathak\", \"age\": 50, \"pay\": 50000}\n",
        "\n",
        "  #database\n",
        "  db = {}\n",
        "  db['omkar'] = omkar\n",
        "  db['Jagdish'] = Jagdish\n",
        "\n",
        "  # its important to use binary mode\n",
        "  dbfile = open('exampleplicke', 'ab')\n",
        "\n",
        "  #source, destinantion\n",
        "  pickle.dump(db, dbfile)\n",
        "  dbfile.close()"
      ],
      "metadata": {
        "id": "cuTSCnJ9fqr2"
      },
      "execution_count": null,
      "outputs": []
    },
    {
      "cell_type": "code",
      "source": [
        "def loadData():\n",
        "  # for reading also binary mode is important\n",
        "  dbfile = open('exampleplicke', 'rb')\n",
        "  db = pickle.load(dbfile)\n",
        "\n",
        "  for keys in db:\n",
        "    print(keys, '=>', db[keys])\n",
        "  dbfile.close()"
      ],
      "metadata": {
        "id": "W1qAqZXZiPFC"
      },
      "execution_count": null,
      "outputs": []
    },
    {
      "cell_type": "code",
      "source": [
        "storeData()"
      ],
      "metadata": {
        "id": "CEWLNKD5je39"
      },
      "execution_count": null,
      "outputs": []
    },
    {
      "cell_type": "code",
      "source": [
        "loadData()"
      ],
      "metadata": {
        "colab": {
          "base_uri": "https://localhost:8080/"
        },
        "id": "6iG_N_3LjgXO",
        "outputId": "5bae8a13-334a-4d70-b4f5-8ebce525c8dd"
      },
      "execution_count": null,
      "outputs": [
        {
          "output_type": "stream",
          "name": "stdout",
          "text": [
            "omkar => {'key': 'Omkar', 'name': 'Omkar Pathak', 'age': 23, 'pay': 40000}\n",
            "Jagdish => {'key': 'Jagdish', 'name': 'Jagdish Pathak', 'age': 50, 'pay': 50000}\n"
          ]
        }
      ]
    },
    {
      "cell_type": "markdown",
      "source": [
        "**Partial functions**\n",
        "*   Partial functions allows us to fix a certain number of arguments of function and generate a new function.functools.partial\n",
        "*   functools.partial helps us to achieve this-\n",
        "let's say we want to create a function that explicitly performs exponentiation. this way we can get the squares,cubes, and other power operations on any number\n",
        "\n",
        "\n"
      ],
      "metadata": {
        "id": "jjFfkVBaj3gL"
      }
    },
    {
      "cell_type": "code",
      "source": [
        "def power(base,exponent):\n",
        "  print('{} to the power {} = {}'.format(base, exponent, base ** exponent))\n",
        "  return base ** exponent"
      ],
      "metadata": {
        "id": "3no8g5gZjnns"
      },
      "execution_count": null,
      "outputs": []
    },
    {
      "cell_type": "markdown",
      "source": [
        "what if we want to have dedicated square and cube functions that leverage the power() function?"
      ],
      "metadata": {
        "id": "lYAuNXMTlK6q"
      }
    },
    {
      "cell_type": "code",
      "source": [
        "def square(base):\n",
        "  return power(base,2)\n",
        "\n",
        "def cube(base):\n",
        "  return power(base,3)"
      ],
      "metadata": {
        "id": "HzMp4tYflVwt"
      },
      "execution_count": null,
      "outputs": []
    },
    {
      "cell_type": "code",
      "source": [
        "square(10)"
      ],
      "metadata": {
        "colab": {
          "base_uri": "https://localhost:8080/"
        },
        "id": "SVlVd-ESlnkf",
        "outputId": "f3784789-b2d6-44a0-80a8-7aafa7b3d467"
      },
      "execution_count": null,
      "outputs": [
        {
          "output_type": "stream",
          "name": "stdout",
          "text": [
            "10 to the power 2 = 100\n"
          ]
        },
        {
          "output_type": "execute_result",
          "data": {
            "text/plain": [
              "100"
            ]
          },
          "metadata": {},
          "execution_count": 109
        }
      ]
    },
    {
      "cell_type": "code",
      "source": [
        "cube(5)"
      ],
      "metadata": {
        "colab": {
          "base_uri": "https://localhost:8080/"
        },
        "id": "TGlH5vtpls8B",
        "outputId": "4949c3d8-8b7c-4e25-eaa5-b660833db394"
      },
      "execution_count": null,
      "outputs": [
        {
          "output_type": "stream",
          "name": "stdout",
          "text": [
            "5 to the power 3 = 125\n"
          ]
        },
        {
          "output_type": "execute_result",
          "data": {
            "text/plain": [
              "125"
            ]
          },
          "metadata": {},
          "execution_count": 110
        }
      ]
    },
    {
      "cell_type": "markdown",
      "source": [
        "this works but what if we want to create 15 or 20 variations of our power() function?\n",
        "\n",
        "what about 1000 of them?\n",
        "\n",
        "wrirting that much repetitive code is,  needless to say, annoying. This is where partials come into play"
      ],
      "metadata": {
        "id": "5gfc7CtDl8fc"
      }
    },
    {
      "cell_type": "code",
      "source": [
        "from functools import partial\n",
        "\n",
        "square = partial(power,exponent=2)\n",
        "cube = partial(power,exponent=3)"
      ],
      "metadata": {
        "id": "hiB5K_Evl6Ln"
      },
      "execution_count": null,
      "outputs": []
    },
    {
      "cell_type": "code",
      "source": [
        "square(2)"
      ],
      "metadata": {
        "colab": {
          "base_uri": "https://localhost:8080/"
        },
        "id": "RyTs1-S2mniI",
        "outputId": "b5be803f-17a7-40f1-bf13-13976c57f205"
      },
      "execution_count": null,
      "outputs": [
        {
          "output_type": "stream",
          "name": "stdout",
          "text": [
            "2 to the power 2 = 4\n"
          ]
        },
        {
          "output_type": "execute_result",
          "data": {
            "text/plain": [
              "4"
            ]
          },
          "metadata": {},
          "execution_count": 112
        }
      ]
    },
    {
      "cell_type": "code",
      "source": [
        "cube(2)"
      ],
      "metadata": {
        "colab": {
          "base_uri": "https://localhost:8080/"
        },
        "id": "Aunh7pUHmrNz",
        "outputId": "be1d8785-aa2d-4486-bbc0-22a598798109"
      },
      "execution_count": null,
      "outputs": [
        {
          "output_type": "stream",
          "name": "stdout",
          "text": [
            "2 to the power 3 = 8\n"
          ]
        },
        {
          "output_type": "execute_result",
          "data": {
            "text/plain": [
              "8"
            ]
          },
          "metadata": {},
          "execution_count": 113
        }
      ]
    },
    {
      "cell_type": "code",
      "source": [
        "#example 2\n",
        "# A normal function\n",
        "\n",
        "def f(a, b, c, x):\n",
        "  return 1000*a + 100*b + 10*c + x"
      ],
      "metadata": {
        "id": "mEzuJ5WhmsZ4"
      },
      "execution_count": null,
      "outputs": []
    },
    {
      "cell_type": "code",
      "source": [
        "# A partial function that calls f with\n",
        "# a as 3, b as 1 and c as 4\n",
        "\n",
        "g = partial(f, 3, 1, 4)"
      ],
      "metadata": {
        "id": "rgeXjOC6m4-w"
      },
      "execution_count": null,
      "outputs": []
    },
    {
      "cell_type": "code",
      "source": [
        "g(10)"
      ],
      "metadata": {
        "colab": {
          "base_uri": "https://localhost:8080/"
        },
        "id": "slkJEFnZnEST",
        "outputId": "bd9eb554-02c2-426a-8627-75e7f0d9aeb8"
      },
      "execution_count": null,
      "outputs": [
        {
          "output_type": "execute_result",
          "data": {
            "text/plain": [
              "3150"
            ]
          },
          "metadata": {},
          "execution_count": 116
        }
      ]
    },
    {
      "cell_type": "code",
      "source": [
        "# A normal function\n",
        "def add(a, b, c):\n",
        "  return  100 * a + 10 * b +  c\n",
        "\n",
        "# A partial function with b = 1 aand c = 2\n",
        "add_part = partial(add, b = 1, c = 2)\n",
        "\n",
        "#calling partial function\n",
        "print(add_part(3))"
      ],
      "metadata": {
        "colab": {
          "base_uri": "https://localhost:8080/"
        },
        "id": "VfXjw3HZnHYF",
        "outputId": "5f8ca83b-90b1-4891-cd4a-86044eb4374d"
      },
      "execution_count": null,
      "outputs": [
        {
          "output_type": "stream",
          "name": "stdout",
          "text": [
            "312\n"
          ]
        }
      ]
    },
    {
      "cell_type": "markdown",
      "source": [
        "without closure"
      ],
      "metadata": {
        "id": "ms_FsefXqsfY"
      }
    },
    {
      "cell_type": "code",
      "source": [
        "def outerFunction(text):\n",
        "  text = text\n",
        "  def innerFunction():\n",
        "    print(text)\n",
        "\n",
        "  innerFunction()"
      ],
      "metadata": {
        "id": "8DDO_4jaqv0k"
      },
      "execution_count": null,
      "outputs": []
    },
    {
      "cell_type": "code",
      "source": [
        "outerFunction('Hey!')"
      ],
      "metadata": {
        "colab": {
          "base_uri": "https://localhost:8080/",
          "height": 103
        },
        "id": "eSeuVY5FrC9Y",
        "outputId": "f3a63183-0e1e-4ce8-d382-5c62a5fa7c7a"
      },
      "execution_count": null,
      "outputs": [
        {
          "output_type": "execute_result",
          "data": {
            "text/plain": [
              "<function __main__.outerFunction.<locals>.innerFunction()>"
            ],
            "text/html": [
              "<div style=\"max-width:800px; border: 1px solid var(--colab-border-color);\"><style>\n",
              "      pre.function-repr-contents {\n",
              "        overflow-x: auto;\n",
              "        padding: 8px 12px;\n",
              "        max-height: 500px;\n",
              "      }\n",
              "\n",
              "      pre.function-repr-contents.function-repr-contents-collapsed {\n",
              "        cursor: pointer;\n",
              "        max-height: 100px;\n",
              "      }\n",
              "    </style>\n",
              "    <pre style=\"white-space: initial; background:\n",
              "         var(--colab-secondary-surface-color); padding: 8px 12px;\n",
              "         border-bottom: 1px solid var(--colab-border-color);\"><b>outerFunction.&lt;locals&gt;.innerFunction</b><br/>def innerFunction()</pre><pre class=\"function-repr-contents function-repr-contents-collapsed\" style=\"\"><a class=\"filepath\" style=\"display:none\" href=\"#\">/content/&lt;ipython-input-124-afe5bad393fb&gt;</a>&lt;no docstring&gt;</pre></div>"
            ]
          },
          "metadata": {},
          "execution_count": 132
        }
      ]
    },
    {
      "cell_type": "markdown",
      "source": [],
      "metadata": {
        "id": "W8bsz2Qpq9RK"
      }
    },
    {
      "cell_type": "markdown",
      "source": [
        "**Closures**\n",
        "\n",
        "*   A Closure is a function object that remembers values in enclosing scopes even if they are not present in memory.\n",
        "*   it is a record that stores a function together with an environment: a mapping associating each free variable of the function (variable that are used locally, but defined in an enclosing scope) with the values or refrences to which the name was bound when the closure was created\n",
        "*   A closure -- unlike a plain function to access those captured variables through the closure's copies of thier values or refrences, even when the function is invoked outside their  scope\n"
      ],
      "metadata": {
        "id": "7SKzbNiTn5T8"
      }
    },
    {
      "cell_type": "code",
      "source": [
        "def outerFunction(text):\n",
        "  text = text\n",
        "  def innerFunction():\n",
        "    print(text)\n",
        "  #Note we are returning function\n",
        "  #without parenthesis\n",
        "  return innerFunction\n",
        "\n",
        "myFunction = outerFunction('Hey!')"
      ],
      "metadata": {
        "id": "C2efoaypnvLJ"
      },
      "execution_count": null,
      "outputs": []
    },
    {
      "cell_type": "code",
      "source": [
        "myFunction()"
      ],
      "metadata": {
        "colab": {
          "base_uri": "https://localhost:8080/"
        },
        "id": "sAsn4_Nnp_ef",
        "outputId": "15e8f353-9c11-4ccf-adc2-a6edf2120f7d"
      },
      "execution_count": null,
      "outputs": [
        {
          "output_type": "stream",
          "name": "stdout",
          "text": [
            "Hey!\n"
          ]
        }
      ]
    },
    {
      "cell_type": "markdown",
      "source": [
        "Decorators\n",
        "* **in Python, function are the first class objects, which means that**\n",
        "\n",
        "1. functions\n",
        "\n",
        "*   are objects\n",
        "*   they can be refrenced to\n",
        "*   passed to a variable and\n",
        "*   returned from other variable functions as well\n",
        "\n",
        "\n",
        "2. Funtions can be defined inside another function and can also be passed as arguement to another function.\n",
        "\n",
        "3. Decorators allow programmers to modify the behaviour of function or class.\n",
        "\n",
        "4. Decorators allow us to wrap another function in order to extend the behaviour of wrapped function, without permanently modifying it.\n",
        "\n",
        "*  **Any generic functionality you can \"tack on\" to an existing class or function's behaviour makes a great use case for decoration**\n",
        "\n",
        "*  **This includes:**\n",
        "\n",
        "*  logging\n",
        "*  enforcing access control and authentication\n",
        "* insstrumentiation and timing functions\n",
        "* rate-limiting\n",
        "* catching and more\n",
        "\n",
        "* **First you have to know the functions names are refrences to functions and have that wer assign multiple names of the same function**\n",
        "\n",
        "\n",
        "\n",
        "\n",
        "\n",
        "\n",
        "\n"
      ],
      "metadata": {
        "id": "jPxLSIEesK-v"
      }
    },
    {
      "cell_type": "code",
      "source": [
        "def success(x):\n",
        "  return x + 1"
      ],
      "metadata": {
        "id": "00DLl6C6rT5X"
      },
      "execution_count": null,
      "outputs": []
    },
    {
      "cell_type": "code",
      "source": [
        "success(10)"
      ],
      "metadata": {
        "colab": {
          "base_uri": "https://localhost:8080/"
        },
        "id": "9pqKRqVOlJpO",
        "outputId": "12a032e7-fd85-49db-ea7e-d148f08a36a5"
      },
      "execution_count": null,
      "outputs": [
        {
          "output_type": "execute_result",
          "data": {
            "text/plain": [
              "11"
            ]
          },
          "metadata": {},
          "execution_count": 6
        }
      ]
    },
    {
      "cell_type": "code",
      "source": [
        "successor = success"
      ],
      "metadata": {
        "id": "hkamVS72lLxN"
      },
      "execution_count": null,
      "outputs": []
    },
    {
      "cell_type": "code",
      "source": [
        "successor(20)"
      ],
      "metadata": {
        "colab": {
          "base_uri": "https://localhost:8080/"
        },
        "id": "88tZc27qlPy4",
        "outputId": "1a1faad9-8f62-4076-faf8-390acdead029"
      },
      "execution_count": null,
      "outputs": [
        {
          "output_type": "execute_result",
          "data": {
            "text/plain": [
              "21"
            ]
          },
          "metadata": {},
          "execution_count": 8
        }
      ]
    },
    {
      "cell_type": "markdown",
      "source": [
        "Functions inside Functions"
      ],
      "metadata": {
        "id": "WfdAkZZ3mLTR"
      }
    },
    {
      "cell_type": "code",
      "source": [
        "def f():\n",
        "\n",
        "  def g():\n",
        "    print(\"Hi, it's me 'g'\")\n",
        "    print(\"Thanks for calling me\")\n",
        "\n",
        "  print(\"This is the function 'f'\")\n",
        "  print(\"I am calling 'g' now:\")\n",
        "  g()"
      ],
      "metadata": {
        "id": "Sj5rP_TalV0E"
      },
      "execution_count": null,
      "outputs": []
    },
    {
      "cell_type": "code",
      "source": [
        "f()"
      ],
      "metadata": {
        "colab": {
          "base_uri": "https://localhost:8080/"
        },
        "id": "9K-VWDDVmVxe",
        "outputId": "681011fe-a9ab-454b-881f-bf35c5c22f57"
      },
      "execution_count": null,
      "outputs": [
        {
          "output_type": "stream",
          "name": "stdout",
          "text": [
            "This is the function 'f'\n",
            "I am calling 'g' now:\n",
            "Hi, it's me 'g'\n",
            "Thanks for calling me\n"
          ]
        }
      ]
    },
    {
      "cell_type": "code",
      "source": [
        "def temperature(t):\n",
        "  def celsius2fahrenheit(x):\n",
        "    return 9 * x / 5 + 32\n",
        "\n",
        "  result = \"It's \" + str(celsius2fahrenheit(t)) + \" degrees!\" + ' Farenheit'\n",
        "  return result"
      ],
      "metadata": {
        "id": "4lu12aLUmYqJ"
      },
      "execution_count": null,
      "outputs": []
    },
    {
      "cell_type": "code",
      "source": [
        "print(temperature(20))"
      ],
      "metadata": {
        "colab": {
          "base_uri": "https://localhost:8080/"
        },
        "id": "9JiuQ2wDmlRP",
        "outputId": "48815c17-09f9-4f38-fb9c-b1edc1f61796"
      },
      "execution_count": null,
      "outputs": [
        {
          "output_type": "stream",
          "name": "stdout",
          "text": [
            "It's 68.0 degrees! Farenheit\n"
          ]
        }
      ]
    },
    {
      "cell_type": "code",
      "source": [
        "def factorial(n):\n",
        "  '''calculate the factorial of n,\n",
        "    n should be an integer and n <= 0'''\n",
        "  if n == 0:\n",
        "    return 1\n",
        "  else:\n",
        "    return n * factorial(n-1)"
      ],
      "metadata": {
        "id": "mkxIf5N3mnr5"
      },
      "execution_count": null,
      "outputs": []
    },
    {
      "cell_type": "code",
      "source": [
        "factorial(5)"
      ],
      "metadata": {
        "colab": {
          "base_uri": "https://localhost:8080/"
        },
        "id": "F5h6JgIFnCSS",
        "outputId": "bae05c4c-a3f5-43b8-ada1-e03ae354eaac"
      },
      "execution_count": null,
      "outputs": [
        {
          "output_type": "execute_result",
          "data": {
            "text/plain": [
              "120"
            ]
          },
          "metadata": {},
          "execution_count": 14
        }
      ]
    },
    {
      "cell_type": "code",
      "source": [
        "def factrorial(n):\n",
        "  '''calculate the factorial of n,\n",
        "    n should be an integer and n <= 0'''\n",
        "  if type(n) == int and n >= 0:\n",
        "    if n == 0:\n",
        "      return 1\n",
        "    else:\n",
        "      return n * factorial(n-1)\n",
        "  else:\n",
        "    raise TypeError('n should be a positive integer or zero')"
      ],
      "metadata": {
        "id": "2tdmqzQ-nKzM"
      },
      "execution_count": null,
      "outputs": []
    },
    {
      "cell_type": "code",
      "source": [
        "factorial(4)"
      ],
      "metadata": {
        "colab": {
          "base_uri": "https://localhost:8080/"
        },
        "id": "01cyIX5Bnmlg",
        "outputId": "3fd7f3bc-e78e-4040-f320-d661d4670f6a"
      },
      "execution_count": null,
      "outputs": [
        {
          "output_type": "execute_result",
          "data": {
            "text/plain": [
              "24"
            ]
          },
          "metadata": {},
          "execution_count": 30
        }
      ]
    },
    {
      "cell_type": "code",
      "source": [
        "def factorial(n):\n",
        "  '''calculate the factorial of n,\n",
        "    n should be an integer and n <= 0'''\n",
        "  def inner_factorial(n):\n",
        "    if n == 0:\n",
        "      print('returning... {}'.format(n))\n",
        "      return 1\n",
        "    else:\n",
        "      ret_value = n * inner_factorial(n-1)\n",
        "      print('returning... {}'.format(ret_value))\n",
        "\n",
        "      return ret_value\n",
        "\n",
        "  if type(n) == int and n >= 0:\n",
        "    return inner_factorial(n)\n",
        "  else:\n",
        "    raise TypeError('n should be a positive integer or zero')"
      ],
      "metadata": {
        "id": "vdbXko2Unsol"
      },
      "execution_count": null,
      "outputs": []
    },
    {
      "cell_type": "code",
      "source": [
        "factorial(3)"
      ],
      "metadata": {
        "colab": {
          "base_uri": "https://localhost:8080/"
        },
        "id": "lQFxe-XoolG7",
        "outputId": "595e2f04-ca7c-47ed-dc42-cd38d4eee053"
      },
      "execution_count": null,
      "outputs": [
        {
          "output_type": "stream",
          "name": "stdout",
          "text": [
            "returning... 0\n",
            "returning... 1\n",
            "returning... 2\n",
            "returning... 6\n"
          ]
        },
        {
          "output_type": "execute_result",
          "data": {
            "text/plain": [
              "6"
            ]
          },
          "metadata": {},
          "execution_count": 38
        }
      ]
    },
    {
      "cell_type": "code",
      "source": [
        "factorial(-1)"
      ],
      "metadata": {
        "colab": {
          "base_uri": "https://localhost:8080/",
          "height": 228
        },
        "id": "37BRqp22on1m",
        "outputId": "fcbb403a-e565-4227-c3e8-14e958d70c60"
      },
      "execution_count": null,
      "outputs": [
        {
          "output_type": "error",
          "ename": "TypeError",
          "evalue": "n should be a positive integer or zero",
          "traceback": [
            "\u001b[0;31m---------------------------------------------------------------------------\u001b[0m",
            "\u001b[0;31mTypeError\u001b[0m                                 Traceback (most recent call last)",
            "\u001b[0;32m<ipython-input-39-5aae425d6a8b>\u001b[0m in \u001b[0;36m<cell line: 1>\u001b[0;34m()\u001b[0m\n\u001b[0;32m----> 1\u001b[0;31m \u001b[0mfactorial\u001b[0m\u001b[0;34m(\u001b[0m\u001b[0;34m-\u001b[0m\u001b[0;36m1\u001b[0m\u001b[0;34m)\u001b[0m\u001b[0;34m\u001b[0m\u001b[0;34m\u001b[0m\u001b[0m\n\u001b[0m",
            "\u001b[0;32m<ipython-input-37-96902c20c073>\u001b[0m in \u001b[0;36mfactorial\u001b[0;34m(n)\u001b[0m\n\u001b[1;32m     15\u001b[0m     \u001b[0;32mreturn\u001b[0m \u001b[0minner_factorial\u001b[0m\u001b[0;34m(\u001b[0m\u001b[0mn\u001b[0m\u001b[0;34m)\u001b[0m\u001b[0;34m\u001b[0m\u001b[0;34m\u001b[0m\u001b[0m\n\u001b[1;32m     16\u001b[0m   \u001b[0;32melse\u001b[0m\u001b[0;34m:\u001b[0m\u001b[0;34m\u001b[0m\u001b[0;34m\u001b[0m\u001b[0m\n\u001b[0;32m---> 17\u001b[0;31m     \u001b[0;32mraise\u001b[0m \u001b[0mTypeError\u001b[0m\u001b[0;34m(\u001b[0m\u001b[0;34m'n should be a positive integer or zero'\u001b[0m\u001b[0;34m)\u001b[0m\u001b[0;34m\u001b[0m\u001b[0;34m\u001b[0m\u001b[0m\n\u001b[0m",
            "\u001b[0;31mTypeError\u001b[0m: n should be a positive integer or zero"
          ]
        }
      ]
    },
    {
      "cell_type": "markdown",
      "source": [
        "**Function returning another fuctions**\n",
        "* the output of the function is also a refrence to an object. Therefore functions can relate refrence to functions objects"
      ],
      "metadata": {
        "id": "omrIatAGpZUA"
      }
    },
    {
      "cell_type": "code",
      "source": [
        "def f(x):\n",
        "  def g(y):\n",
        "    return y + x + 3\n",
        "  return g"
      ],
      "metadata": {
        "id": "F_pkCIbzo0Fx"
      },
      "execution_count": null,
      "outputs": []
    },
    {
      "cell_type": "code",
      "source": [
        "f(10)"
      ],
      "metadata": {
        "colab": {
          "base_uri": "https://localhost:8080/",
          "height": 104
        },
        "id": "AzDVqPbopwYa",
        "outputId": "7824d87a-7c21-494e-c8e8-385da3ff4eab"
      },
      "execution_count": null,
      "outputs": [
        {
          "output_type": "execute_result",
          "data": {
            "text/plain": [
              "<function __main__.f.<locals>.g(y)>"
            ],
            "text/html": [
              "<div style=\"max-width:800px; border: 1px solid var(--colab-border-color);\"><style>\n",
              "      pre.function-repr-contents {\n",
              "        overflow-x: auto;\n",
              "        padding: 8px 12px;\n",
              "        max-height: 500px;\n",
              "      }\n",
              "\n",
              "      pre.function-repr-contents.function-repr-contents-collapsed {\n",
              "        cursor: pointer;\n",
              "        max-height: 100px;\n",
              "      }\n",
              "    </style>\n",
              "    <pre style=\"white-space: initial; background:\n",
              "         var(--colab-secondary-surface-color); padding: 8px 12px;\n",
              "         border-bottom: 1px solid var(--colab-border-color);\"><b>f.&lt;locals&gt;.g</b><br/>def g(y)</pre><pre class=\"function-repr-contents function-repr-contents-collapsed\" style=\"\"><a class=\"filepath\" style=\"display:none\" href=\"#\">/content/&lt;ipython-input-40-7886765b0848&gt;</a>&lt;no docstring&gt;</pre></div>"
            ]
          },
          "metadata": {},
          "execution_count": 41
        }
      ]
    },
    {
      "cell_type": "code",
      "source": [
        "nf1 = f(10)\n",
        "nf1"
      ],
      "metadata": {
        "colab": {
          "base_uri": "https://localhost:8080/",
          "height": 104
        },
        "id": "uo5561adpyEV",
        "outputId": "eb218b7c-ccce-46c3-d076-3cd44681376f"
      },
      "execution_count": null,
      "outputs": [
        {
          "output_type": "execute_result",
          "data": {
            "text/plain": [
              "<function __main__.f.<locals>.g(y)>"
            ],
            "text/html": [
              "<div style=\"max-width:800px; border: 1px solid var(--colab-border-color);\"><style>\n",
              "      pre.function-repr-contents {\n",
              "        overflow-x: auto;\n",
              "        padding: 8px 12px;\n",
              "        max-height: 500px;\n",
              "      }\n",
              "\n",
              "      pre.function-repr-contents.function-repr-contents-collapsed {\n",
              "        cursor: pointer;\n",
              "        max-height: 100px;\n",
              "      }\n",
              "    </style>\n",
              "    <pre style=\"white-space: initial; background:\n",
              "         var(--colab-secondary-surface-color); padding: 8px 12px;\n",
              "         border-bottom: 1px solid var(--colab-border-color);\"><b>f.&lt;locals&gt;.g</b><br/>def g(y)</pre><pre class=\"function-repr-contents function-repr-contents-collapsed\" style=\"\"><a class=\"filepath\" style=\"display:none\" href=\"#\">/content/&lt;ipython-input-40-7886765b0848&gt;</a>&lt;no docstring&gt;</pre></div>"
            ]
          },
          "metadata": {},
          "execution_count": 42
        }
      ]
    },
    {
      "cell_type": "code",
      "source": [
        "nf1(20)"
      ],
      "metadata": {
        "colab": {
          "base_uri": "https://localhost:8080/"
        },
        "id": "71-cHM7np8-P",
        "outputId": "6018a1e9-9519-4d89-be15-7a439354853d"
      },
      "execution_count": null,
      "outputs": [
        {
          "output_type": "execute_result",
          "data": {
            "text/plain": [
              "33"
            ]
          },
          "metadata": {},
          "execution_count": 43
        }
      ]
    },
    {
      "cell_type": "code",
      "source": [
        "def polynomial_creator(a, b, c):\n",
        "  '''returns the function f(x) = ax^2 + bx + c'''\n",
        "  def polynomial(x):\n",
        "    return a * x**2 + b * x + c\n",
        "  return polynomial"
      ],
      "metadata": {
        "id": "HxfrvJIbp_dU"
      },
      "execution_count": null,
      "outputs": []
    },
    {
      "cell_type": "code",
      "source": [
        "p1 = polynomial_creator(2, 3, -1)\n",
        "p2 = polynomial_creator(-1, 2, 1)"
      ],
      "metadata": {
        "id": "IIafLbLxqKrP"
      },
      "execution_count": null,
      "outputs": []
    },
    {
      "cell_type": "code",
      "source": [
        "p1"
      ],
      "metadata": {
        "colab": {
          "base_uri": "https://localhost:8080/",
          "height": 104
        },
        "id": "CVPmlr4GqRcS",
        "outputId": "a7c4a176-e540-4fc5-bc65-26624715df33"
      },
      "execution_count": null,
      "outputs": [
        {
          "output_type": "execute_result",
          "data": {
            "text/plain": [
              "<function __main__.polynomial_creator.<locals>.polynomial(x)>"
            ],
            "text/html": [
              "<div style=\"max-width:800px; border: 1px solid var(--colab-border-color);\"><style>\n",
              "      pre.function-repr-contents {\n",
              "        overflow-x: auto;\n",
              "        padding: 8px 12px;\n",
              "        max-height: 500px;\n",
              "      }\n",
              "\n",
              "      pre.function-repr-contents.function-repr-contents-collapsed {\n",
              "        cursor: pointer;\n",
              "        max-height: 100px;\n",
              "      }\n",
              "    </style>\n",
              "    <pre style=\"white-space: initial; background:\n",
              "         var(--colab-secondary-surface-color); padding: 8px 12px;\n",
              "         border-bottom: 1px solid var(--colab-border-color);\"><b>polynomial_creator.&lt;locals&gt;.polynomial</b><br/>def polynomial(x)</pre><pre class=\"function-repr-contents function-repr-contents-collapsed\" style=\"\"><a class=\"filepath\" style=\"display:none\" href=\"#\">/content/&lt;ipython-input-44-a92cc80e7519&gt;</a>&lt;no docstring&gt;</pre></div>"
            ]
          },
          "metadata": {},
          "execution_count": 46
        }
      ]
    },
    {
      "cell_type": "code",
      "source": [
        "for x in range(-2, 2, 1):\n",
        "  print('{:5d},{:5d},{:5d}'.format(x,p1(x),p2(x)))"
      ],
      "metadata": {
        "colab": {
          "base_uri": "https://localhost:8080/"
        },
        "id": "-t_S3iHpqSw5",
        "outputId": "3dbf6b23-1cc8-4d58-bb36-a9744e6b92ab"
      },
      "execution_count": null,
      "outputs": [
        {
          "output_type": "stream",
          "name": "stdout",
          "text": [
            "   -2,    1,   -7\n",
            "   -1,   -2,   -2\n",
            "    0,   -1,    1\n",
            "    1,    4,    2\n"
          ]
        }
      ]
    },
    {
      "cell_type": "code",
      "source": [
        "coef = [1,23,4,45]\n",
        "\n",
        "for index, coeff in enumerate(coef[::-1]):\n",
        "  print(index,coeff)"
      ],
      "metadata": {
        "colab": {
          "base_uri": "https://localhost:8080/"
        },
        "id": "zrBMDSaXsQag",
        "outputId": "3ee670a3-7650-4c52-fdc4-933f575e46c6"
      },
      "execution_count": null,
      "outputs": [
        {
          "output_type": "stream",
          "name": "stdout",
          "text": [
            "0 45\n",
            "1 4\n",
            "2 23\n",
            "3 1\n"
          ]
        }
      ]
    },
    {
      "cell_type": "code",
      "source": [
        "def polynomial_creator(*coefficients):\n",
        "  '''coefficients are in the form a_n, ... a_1, a_0'''\n",
        "  def polynomial(x):\n",
        "    res = 0\n",
        "    for index, coeff in enumerate(coefficients[::-1]):\n",
        "      res += coeff * x**index\n",
        "    return res\n",
        "  return polynomial\n",
        "\n",
        "p1 = polynomial_creator(4)\n",
        "p2 = polynomial_creator(2, 4)\n",
        "p3 = polynomial_creator(1, 8, -1, 3, 2)\n",
        "p4 = polynomial_creator(-1, 2, 1)"
      ],
      "metadata": {
        "id": "ZUp6A7h1qqRr"
      },
      "execution_count": null,
      "outputs": []
    },
    {
      "cell_type": "code",
      "source": [
        "for x in range (-2, 2, 1):\n",
        "  print('{:5d},{:5d},{:5d},{:5d},{:5d}'.format(x,p1(x),p2(x),p3(x),p4(x)))"
      ],
      "metadata": {
        "colab": {
          "base_uri": "https://localhost:8080/"
        },
        "id": "L1cWNkZHtdfw",
        "outputId": "950c8043-7429-42d0-a86f-3859983e4970"
      },
      "execution_count": null,
      "outputs": [
        {
          "output_type": "stream",
          "name": "stdout",
          "text": [
            "   -2,    4,    0,  -56,   -7\n",
            "   -1,    4,    2,   -9,   -2\n",
            "    0,    4,    4,    2,    1\n",
            "    1,    4,    6,   13,    2\n"
          ]
        }
      ]
    },
    {
      "cell_type": "markdown",
      "source": [
        "**A Simple Decorator**"
      ],
      "metadata": {
        "id": "24Ki6JstvxoD"
      }
    },
    {
      "cell_type": "code",
      "source": [
        "def our_decorator(func):\n",
        "  def function_wrapper(x):\n",
        "    print(\"Before calling \" + func.__name__)\n",
        "    func(x)\n",
        "    print(\"After calling \" + func.__name__)\n",
        "  return function_wrapper"
      ],
      "metadata": {
        "id": "tHBvlwzHsuJS"
      },
      "execution_count": null,
      "outputs": []
    },
    {
      "cell_type": "code",
      "source": [
        " def foo(x):\n",
        "  print(\"Hi, foo has been called with \" + str(x))"
      ],
      "metadata": {
        "id": "1GrVl21sv6ID"
      },
      "execution_count": null,
      "outputs": []
    },
    {
      "cell_type": "code",
      "source": [
        "print(\"we call foo before decoration: \")\n",
        "\n",
        "foo(\"hi\")"
      ],
      "metadata": {
        "colab": {
          "base_uri": "https://localhost:8080/"
        },
        "id": "b8DMMwdPxD-j",
        "outputId": "d3d1726e-2dba-4b69-a4a9-e3418659334d"
      },
      "execution_count": null,
      "outputs": [
        {
          "output_type": "stream",
          "name": "stdout",
          "text": [
            "we call foo before decoration: \n",
            "Hi, foo has been called with hi\n"
          ]
        }
      ]
    },
    {
      "cell_type": "code",
      "source": [
        "print(\"we now decoreate foo with f\")\n",
        "foo = our_decorator(foo)"
      ],
      "metadata": {
        "colab": {
          "base_uri": "https://localhost:8080/"
        },
        "id": "GtW6v7YDxUXg",
        "outputId": "795443ce-38f4-4303-c585-317aa834ac57"
      },
      "execution_count": null,
      "outputs": [
        {
          "output_type": "stream",
          "name": "stdout",
          "text": [
            "we now decoreate foo with f\n"
          ]
        }
      ]
    },
    {
      "cell_type": "code",
      "source": [
        "print(\"we call foo after decoration: \")\n",
        "foo(42)"
      ],
      "metadata": {
        "colab": {
          "base_uri": "https://localhost:8080/"
        },
        "id": "E1oXXwQAxlrZ",
        "outputId": "a184330a-5e3e-4e5e-cd38-424258218a19"
      },
      "execution_count": null,
      "outputs": [
        {
          "output_type": "stream",
          "name": "stdout",
          "text": [
            "we call foo after decoration: \n",
            "Before calling foo\n",
            "Hi, foo has been called with 42\n",
            "After calling foo\n"
          ]
        }
      ]
    },
    {
      "cell_type": "markdown",
      "source": [
        "if you look ar the output of previous program, you can see what's going on. After the decoration \"foo = our_decorator(foo)\" foo is a refrence to the 'function_wrapper'. 'foo' will be called inside of 'function_wrapper', but before and after the call some additional code will be exceuted, i.e, in our case two print functions."
      ],
      "metadata": {
        "id": "lo8OtdKSydkK"
      }
    },
    {
      "cell_type": "markdown",
      "source": [
        "**The Usual Syntax for Decorators in Python**\n",
        "\n",
        " The decoration occurs in the line before the function header. The \"@\" is followed byu the decorator function name.\n",
        "\n",
        " We will rewrite now our initial example. instead of writing the statement\n",
        "\n",
        "          foo = our_decorator(foo)\n",
        "\n",
        " we can write\n",
        "\n",
        "          @our_decorator"
      ],
      "metadata": {
        "id": "iVehrGE1zOOj"
      }
    },
    {
      "cell_type": "code",
      "source": [
        "def our_decorator(func):\n",
        "  def function_wrapper(x):\n",
        "    print(\"Before calling \" + func.__name__)\n",
        "    func(x)\n",
        "    print(\"After calling \" + func.__name__)\n",
        "  return function_wrapper\n",
        "\n",
        "@our_decorator\n",
        "def foo(x):\n",
        "  print(\"Hi, foo has been called with \" + str(x))\n",
        "\n",
        "foo(\"hi\")\n"
      ],
      "metadata": {
        "colab": {
          "base_uri": "https://localhost:8080/"
        },
        "id": "gdwGRoiHxtC-",
        "outputId": "27d74d1d-50eb-495d-f230-0eaf53a23b07"
      },
      "execution_count": null,
      "outputs": [
        {
          "output_type": "stream",
          "name": "stdout",
          "text": [
            "Before calling foo\n",
            "Hi, foo has been called with hi\n",
            "After calling foo\n"
          ]
        }
      ]
    },
    {
      "cell_type": "markdown",
      "source": [
        "**use cases of decorator**\n",
        "\n",
        "Example 1 (checking args with decorator)"
      ],
      "metadata": {
        "id": "qcVBii-C0eHy"
      }
    },
    {
      "cell_type": "code",
      "source": [
        "def arguements_test_natural_number(function):\n",
        "  def helper(x):\n",
        "    if type(x) == int and x > 0:\n",
        "      return function(x)\n",
        "    else:\n",
        "      raise Exception(\"Argument is not an integer\")\n",
        "  return helper"
      ],
      "metadata": {
        "id": "1EGOZ_D70O1D"
      },
      "execution_count": null,
      "outputs": []
    },
    {
      "cell_type": "code",
      "source": [
        "@arguements_test_natural_number\n",
        "def factorial(n):\n",
        "  if n == 1:\n",
        "    return 1\n",
        "  else:\n",
        "    return n * factorial(n-1)"
      ],
      "metadata": {
        "id": "cccecCdl0668"
      },
      "execution_count": null,
      "outputs": []
    },
    {
      "cell_type": "code",
      "source": [
        "factorial(5)"
      ],
      "metadata": {
        "colab": {
          "base_uri": "https://localhost:8080/"
        },
        "id": "b3q5hjQL1xVi",
        "outputId": "d6985c75-d40d-4c3f-8415-cd45213d03a6"
      },
      "execution_count": null,
      "outputs": [
        {
          "output_type": "execute_result",
          "data": {
            "text/plain": [
              "120"
            ]
          },
          "metadata": {},
          "execution_count": 75
        }
      ]
    },
    {
      "cell_type": "code",
      "source": [
        "for i in range(1,11):\n",
        "  print(i,factorial(i))"
      ],
      "metadata": {
        "colab": {
          "base_uri": "https://localhost:8080/"
        },
        "id": "XM199m611Fga",
        "outputId": "5d3e6a4c-8286-4de1-fd59-3e14d9562501"
      },
      "execution_count": null,
      "outputs": [
        {
          "output_type": "stream",
          "name": "stdout",
          "text": [
            "1 1\n",
            "2 2\n",
            "3 6\n",
            "4 24\n",
            "5 120\n",
            "6 720\n",
            "7 5040\n",
            "8 40320\n",
            "9 362880\n",
            "10 3628800\n"
          ]
        }
      ]
    },
    {
      "cell_type": "markdown",
      "source": [
        "**Map, Filter & Reduce functions in python**\n",
        "\n",
        "1. Pyhton provides several functions which enable a functional approach to programming.\n",
        "\n",
        "2. Functional programming is all about expressions.\n",
        "\n",
        "3. Expression oriented functions of Python provides are:\n",
        "  * map(aFunction, aSequence)\n",
        "  * filter(aFunction, aSequence)\n",
        "  * reduce(aFunction, aSequence)\n",
        "  * lambda\n",
        "  * list comprehension\n",
        "\n",
        "\n",
        "---\n",
        "\n",
        "**map - map(aFunction, aSequence)**\n",
        "\n",
        "---\n",
        "One of the common things we do with list and other sequences is applying an operation to each item and collect the result.\n",
        "\n",
        "For example, updating all the items in a list can be done easily with a for loop:\n",
        "\n",
        "\n"
      ],
      "metadata": {
        "id": "lk7yoGpl2XuZ"
      }
    },
    {
      "cell_type": "code",
      "source": [
        "item = [1,2,3,4,5]\n",
        "square = []\n",
        "for x in item:\n",
        "  square.append(x**2)"
      ],
      "metadata": {
        "id": "IGlhIw1k1Pmd"
      },
      "execution_count": null,
      "outputs": []
    },
    {
      "cell_type": "code",
      "source": [
        "print(square)"
      ],
      "metadata": {
        "colab": {
          "base_uri": "https://localhost:8080/"
        },
        "id": "VCok3tSC4E9R",
        "outputId": "39b7b602-0515-47c1-ccc2-29741d5ea9d9"
      },
      "execution_count": null,
      "outputs": [
        {
          "output_type": "stream",
          "name": "stdout",
          "text": [
            "[1, 4, 9, 16, 25]\n"
          ]
        }
      ]
    },
    {
      "cell_type": "markdown",
      "source": [
        "using map"
      ],
      "metadata": {
        "id": "9XadEDwM452f"
      }
    },
    {
      "cell_type": "code",
      "source": [
        "items = [1,2,3,4,5]"
      ],
      "metadata": {
        "id": "DfxBOprg4GDj"
      },
      "execution_count": null,
      "outputs": []
    },
    {
      "cell_type": "code",
      "source": [
        "def sqr(x):\n",
        "  return x ** 2"
      ],
      "metadata": {
        "id": "iO0_Wvp24gkz"
      },
      "execution_count": null,
      "outputs": []
    },
    {
      "cell_type": "code",
      "source": [
        "map(sqr,items)"
      ],
      "metadata": {
        "colab": {
          "base_uri": "https://localhost:8080/"
        },
        "id": "gLL7cp124p3R",
        "outputId": "692af7ed-f64c-4327-dd67-773447d3e72c"
      },
      "execution_count": null,
      "outputs": [
        {
          "output_type": "execute_result",
          "data": {
            "text/plain": [
              "<map at 0x79607e1714b0>"
            ]
          },
          "metadata": {},
          "execution_count": 84
        }
      ]
    },
    {
      "cell_type": "code",
      "source": [
        "for each in map(sqr,items):\n",
        "  print(each)"
      ],
      "metadata": {
        "colab": {
          "base_uri": "https://localhost:8080/"
        },
        "id": "PGJ2KaTH4s5A",
        "outputId": "6ed4041e-2970-459c-dd0e-fe8aec578efd"
      },
      "execution_count": null,
      "outputs": [
        {
          "output_type": "stream",
          "name": "stdout",
          "text": [
            "1\n",
            "4\n",
            "9\n",
            "16\n",
            "25\n"
          ]
        }
      ]
    },
    {
      "cell_type": "markdown",
      "source": [
        "* We passed in a user-defined function applied to each item in te list\n",
        "* map calls sqr on each list item and collect all the return values into a new list\n",
        "* Because map expects a function to be passed in, it also happens to be one of the place where lambda routinely appears:"
      ],
      "metadata": {
        "id": "m48v0VSH47xU"
      }
    },
    {
      "cell_type": "code",
      "source": [
        "list(map(lambda x: x ** 2, items))"
      ],
      "metadata": {
        "colab": {
          "base_uri": "https://localhost:8080/"
        },
        "id": "1bAFYSQ74zui",
        "outputId": "bafc18cd-6bb4-4a11-9ab9-b70e3cbd3c8f"
      },
      "execution_count": null,
      "outputs": [
        {
          "output_type": "execute_result",
          "data": {
            "text/plain": [
              "[1, 4, 9, 16, 25]"
            ]
          },
          "metadata": {},
          "execution_count": 86
        }
      ]
    },
    {
      "cell_type": "markdown",
      "source": [
        "Example 2\n",
        "while we still use lambda as a function, we can have a list function as aSequence:"
      ],
      "metadata": {
        "id": "vma905aN5wk3"
      }
    },
    {
      "cell_type": "code",
      "source": [
        "import numpy as np"
      ],
      "metadata": {
        "id": "Up6hpwJS5kUC"
      },
      "execution_count": null,
      "outputs": []
    },
    {
      "cell_type": "code",
      "source": [
        "def square(x):\n",
        "  return (x**2)\n",
        "\n",
        "def cube(x):\n",
        "  return (x**3)\n",
        "\n",
        "def sqroot(x):\n",
        "  return (np.sqrt(x))"
      ],
      "metadata": {
        "id": "phsBD5NZ6GGc"
      },
      "execution_count": null,
      "outputs": []
    },
    {
      "cell_type": "code",
      "source": [
        "funcs = [square, cube, sqroot]"
      ],
      "metadata": {
        "id": "Kr2ELDKE6XDt"
      },
      "execution_count": null,
      "outputs": []
    },
    {
      "cell_type": "code",
      "source": [
        "for r in range(5):\n",
        "  Value = map(lambda x: x(r), funcs)\n",
        "  print(list(Value))"
      ],
      "metadata": {
        "id": "nm2scukd6Znp"
      },
      "execution_count": null,
      "outputs": []
    },
    {
      "cell_type": "markdown",
      "source": [
        "Example 3"
      ],
      "metadata": {
        "id": "k32pmcXX6xpB"
      }
    },
    {
      "cell_type": "code",
      "source": [
        "def to_upper_case(s):\n",
        "  return str(s).upper()"
      ],
      "metadata": {
        "id": "O1fE1XYj6y17"
      },
      "execution_count": null,
      "outputs": []
    },
    {
      "cell_type": "code",
      "source": [
        "def print_iterator(iter):\n",
        "  for x in iter:\n",
        "    print(x, end=' ')\n",
        "\n",
        "  print('') # for new line"
      ],
      "metadata": {
        "id": "Gx2XkWmN62ln"
      },
      "execution_count": null,
      "outputs": []
    },
    {
      "cell_type": "code",
      "source": [
        "list( map(to_upper_case,'abc'))"
      ],
      "metadata": {
        "colab": {
          "base_uri": "https://localhost:8080/"
        },
        "id": "XgFLAEjB7AU6",
        "outputId": "2dcf5f86-7f66-48f4-f51b-7b598ec33584"
      },
      "execution_count": null,
      "outputs": [
        {
          "output_type": "execute_result",
          "data": {
            "text/plain": [
              "['A', 'B', 'C']"
            ]
          },
          "metadata": {},
          "execution_count": 95
        }
      ]
    },
    {
      "cell_type": "code",
      "source": [
        "#map() with string\n",
        "map_iterator = map(to_upper_case,'abc')\n",
        "print(type(map_iterator))\n",
        "print_iterator(map_iterator)"
      ],
      "metadata": {
        "colab": {
          "base_uri": "https://localhost:8080/"
        },
        "id": "5EF2Jdtt7GY9",
        "outputId": "56e399c0-aa09-43cd-f030-a1511bf68886"
      },
      "execution_count": null,
      "outputs": [
        {
          "output_type": "stream",
          "name": "stdout",
          "text": [
            "<class 'map'>\n",
            "A B C \n"
          ]
        }
      ]
    },
    {
      "cell_type": "markdown",
      "source": [
        "**Python map() with multiple arguements**"
      ],
      "metadata": {
        "id": "8qKCLQYf7xwP"
      }
    },
    {
      "cell_type": "code",
      "source": [
        "#map() with multiple iterable arguements\n",
        "list_numbers = [1,2,3,4]\n",
        "tuple_numbers = (5,6,7,8)\n",
        "\n",
        "map_iterator = map(lambda x,y: x*y, list_numbers, tuple_numbers)\n",
        "print_iterator(map_iterator)\n",
        "print(type(map_iterator))"
      ],
      "metadata": {
        "colab": {
          "base_uri": "https://localhost:8080/"
        },
        "id": "f9LbWugG7nDf",
        "outputId": "5dec3795-fb82-4a2c-ba48-c0f59b30927c"
      },
      "execution_count": null,
      "outputs": [
        {
          "output_type": "stream",
          "name": "stdout",
          "text": [
            "5 12 21 32 \n",
            "<class 'map'>\n"
          ]
        }
      ]
    },
    {
      "cell_type": "markdown",
      "source": [
        "**filter(function,sequence)**\n",
        "\n",
        "---\n",
        "\n",
        "* function that tests if each elements of a sequence ture or not.\n",
        "* sequence: sequence which needs to be filtered, it can be sets,lists, typles, or containers of any itertors.\n",
        "\n",
        "* **Return**\n",
        "    * return an iterator that is already filtered.\n",
        "\n",
        "As the name suggests filter extract each element in the sequence for which the function returns True"
      ],
      "metadata": {
        "id": "YvKlgX0R9Jn9"
      }
    },
    {
      "cell_type": "code",
      "source": [
        "r = list(range(-5,5))\n",
        "r"
      ],
      "metadata": {
        "colab": {
          "base_uri": "https://localhost:8080/"
        },
        "id": "Vt7A0HMf8pme",
        "outputId": "439464c6-65e0-47b6-8881-74fa6b8407bf"
      },
      "execution_count": null,
      "outputs": [
        {
          "output_type": "execute_result",
          "data": {
            "text/plain": [
              "[-5, -4, -3, -2, -1, 0, 1, 2, 3, 4]"
            ]
          },
          "metadata": {},
          "execution_count": 100
        }
      ]
    },
    {
      "cell_type": "markdown",
      "source": [
        "Example 1 Qs: Extract < 0 from r"
      ],
      "metadata": {
        "id": "3Bl6-Nyx-Uec"
      }
    },
    {
      "cell_type": "code",
      "source": [
        "# filter the value < 0\n",
        "result = []\n",
        "\n",
        "for x in r:\n",
        "  if x < 0:\n",
        "    result.append(x)\n",
        "\n",
        "result"
      ],
      "metadata": {
        "colab": {
          "base_uri": "https://localhost:8080/"
        },
        "id": "BC7tZXoC-Siw",
        "outputId": "390ab2ea-ab0d-4de9-f9f9-4c4a482a49b1"
      },
      "execution_count": null,
      "outputs": [
        {
          "output_type": "execute_result",
          "data": {
            "text/plain": [
              "[-5, -4, -3, -2, -1]"
            ]
          },
          "metadata": {},
          "execution_count": 103
        }
      ]
    },
    {
      "cell_type": "markdown",
      "source": [
        "using filter"
      ],
      "metadata": {
        "id": "M3tIiuK1_ERh"
      }
    },
    {
      "cell_type": "code",
      "source": [
        "list( filter((lambda x: x < 0), r))"
      ],
      "metadata": {
        "colab": {
          "base_uri": "https://localhost:8080/"
        },
        "id": "I5kk16vP-kFE",
        "outputId": "a71d0d40-9c28-4f29-b654-d8f1a6a2629f"
      },
      "execution_count": null,
      "outputs": [
        {
          "output_type": "execute_result",
          "data": {
            "text/plain": [
              "[-5, -4, -3, -2, -1]"
            ]
          },
          "metadata": {},
          "execution_count": 104
        }
      ]
    },
    {
      "cell_type": "code",
      "source": [
        "# sequence\n",
        "sequence = ['d','a','t','j','k','o','p','l']"
      ],
      "metadata": {
        "id": "DqSZ9mNg--8g"
      },
      "execution_count": null,
      "outputs": []
    },
    {
      "cell_type": "code",
      "source": [
        "def fun(variable):\n",
        "  letters = ['a','e','i','o','u']\n",
        "  if (variable in letters):\n",
        "    return True\n",
        "  else:\n",
        "    return False"
      ],
      "metadata": {
        "id": "sqljSNwA_VHS"
      },
      "execution_count": null,
      "outputs": []
    },
    {
      "cell_type": "code",
      "source": [
        "# using that filters vowels\n",
        "filtered = filter(fun,sequence)\n",
        "\n",
        "list(filtered)"
      ],
      "metadata": {
        "colab": {
          "base_uri": "https://localhost:8080/"
        },
        "id": "hYBQaagBTTVe",
        "outputId": "7f324b4c-8524-48ad-c6ea-51e288366fc1"
      },
      "execution_count": null,
      "outputs": [
        {
          "output_type": "execute_result",
          "data": {
            "text/plain": [
              "['a', 'o']"
            ]
          },
          "metadata": {},
          "execution_count": 6
        }
      ]
    },
    {
      "cell_type": "markdown",
      "source": [
        "**reduce**\n",
        "\n",
        "---\n",
        "\n",
        "* The reduce is in the functools of two arguements\n",
        "* reduce applies a function of two arguements cumulatively to the elements of an iterable, optionally starting with an initial arguement.\n",
        "* It returns a single result."
      ],
      "metadata": {
        "id": "6U2b9HygUC8b"
      }
    },
    {
      "cell_type": "code",
      "source": [
        "from functools import reduce"
      ],
      "metadata": {
        "id": "Fzb9BONkT5LS"
      },
      "execution_count": null,
      "outputs": []
    },
    {
      "cell_type": "markdown",
      "source": [
        "Example 1: sum use case"
      ],
      "metadata": {
        "id": "_q_0hQfiUmWH"
      }
    },
    {
      "cell_type": "code",
      "source": [
        "numbers = [1,2,3,4]\n",
        "\n",
        "total = 0\n",
        "\n",
        "for num in numbers:\n",
        "  total += num\n",
        "\n",
        "total"
      ],
      "metadata": {
        "colab": {
          "base_uri": "https://localhost:8080/"
        },
        "id": "Oy-5oliTUlsW",
        "outputId": "5b057912-9952-480b-d64c-298800ad1818"
      },
      "execution_count": null,
      "outputs": [
        {
          "output_type": "execute_result",
          "data": {
            "text/plain": [
              "10"
            ]
          },
          "metadata": {},
          "execution_count": 14
        }
      ]
    },
    {
      "cell_type": "code",
      "source": [
        "def my_add(a,b):\n",
        "  return a + b"
      ],
      "metadata": {
        "id": "HUnD3WumUzMd"
      },
      "execution_count": null,
      "outputs": []
    },
    {
      "cell_type": "code",
      "source": [
        "my_add(1,2)"
      ],
      "metadata": {
        "colab": {
          "base_uri": "https://localhost:8080/"
        },
        "id": "_7WTv8xFVPC_",
        "outputId": "653c008e-1ca0-4cb8-977b-006e6b8a1d16"
      },
      "execution_count": null,
      "outputs": [
        {
          "output_type": "execute_result",
          "data": {
            "text/plain": [
              "3"
            ]
          },
          "metadata": {},
          "execution_count": 22
        }
      ]
    },
    {
      "cell_type": "code",
      "source": [
        "numbers = [1,2,3,4]"
      ],
      "metadata": {
        "id": "8tOZeaTgVQWD"
      },
      "execution_count": null,
      "outputs": []
    },
    {
      "cell_type": "code",
      "source": [
        "reduce(my_add,numbers)"
      ],
      "metadata": {
        "colab": {
          "base_uri": "https://localhost:8080/"
        },
        "id": "CijvFKpoVSEo",
        "outputId": "8f5be891-f500-48cf-d06e-2451b043cdb3"
      },
      "execution_count": null,
      "outputs": [
        {
          "output_type": "execute_result",
          "data": {
            "text/plain": [
              "10"
            ]
          },
          "metadata": {},
          "execution_count": 24
        }
      ]
    },
    {
      "cell_type": "markdown",
      "source": [
        "The call to reduce() applies my_add() to the items in numbers to compute thier cumulative sum. The final result is 10, as expected"
      ],
      "metadata": {
        "id": "YBcyw7i8VqFF"
      }
    },
    {
      "cell_type": "markdown",
      "source": [
        "**Using lambda function**"
      ],
      "metadata": {
        "id": "8eU9g2s1V6Zd"
      }
    },
    {
      "cell_type": "code",
      "source": [
        "reduce( (lambda x,y: x + y),[1,2,3,4])"
      ],
      "metadata": {
        "colab": {
          "base_uri": "https://localhost:8080/"
        },
        "id": "2IrVPItfVVb8",
        "outputId": "454078c7-18a3-4dfa-dcb3-83eeeb2d96bf"
      },
      "execution_count": null,
      "outputs": [
        {
          "output_type": "execute_result",
          "data": {
            "text/plain": [
              "10"
            ]
          },
          "metadata": {},
          "execution_count": 25
        }
      ]
    },
    {
      "cell_type": "markdown",
      "source": [
        "# **OOP in Python**"
      ],
      "metadata": {
        "id": "3zOIKuq6X-at"
      }
    },
    {
      "cell_type": "markdown",
      "source": [
        "**STACK - Abstract Data structure - implemenation using basic python + OOP**\n",
        "\n",
        "* The name Stack data structure resembles a pile of objects, stacks of paper, or a tower of blocks, where adding and removing of items occur only at the top of the pile\n",
        "* A stack an abstract linear data type, collection of objects that supports first last-in, last-out (LIFO) semantics for inserts and deletes.\n",
        "* Unlike lists or arrays, stacks typically don't allow for random access to objects they contain.\n",
        "* The insert and delete operations are often called as push and pop\n",
        "* stack and queues are both linear collections of items\n",
        "    * however, in queue, the least recently added item is removed first, following the first in first out or FIFO.\n",
        "    * On the other hand, in a stack, the most recently added ite m is removed in the beginning following the LIFO.\n"
      ],
      "metadata": {
        "id": "SzXarmcjYXbE"
      }
    },
    {
      "cell_type": "markdown",
      "source": [
        "**STACK implementation in python**\n",
        "\n",
        "* some of those implementations are as follows:\n",
        "    * using list\n",
        "    * using collection.deque\n",
        "    * using custom method\n",
        "    * numerous 3rd party packages"
      ],
      "metadata": {
        "id": "yTE0hu5hjusi"
      }
    },
    {
      "cell_type": "markdown",
      "source": [
        "option 1"
      ],
      "metadata": {
        "id": "upQgKqCwkObS"
      }
    },
    {
      "cell_type": "code",
      "source": [
        "# define a stack\n",
        "s = []\n",
        "\n",
        "# add some item to it\n",
        "s.append('eat')\n",
        "s.append('sleep')\n",
        "s.append('code')"
      ],
      "metadata": {
        "id": "faDBrJtlWIhW"
      },
      "execution_count": null,
      "outputs": []
    },
    {
      "cell_type": "code",
      "source": [
        "s"
      ],
      "metadata": {
        "colab": {
          "base_uri": "https://localhost:8080/"
        },
        "id": "Swr9HJ_okcQi",
        "outputId": "174978f3-b532-4367-adeb-1ad4be9da07a"
      },
      "execution_count": null,
      "outputs": [
        {
          "output_type": "execute_result",
          "data": {
            "text/plain": [
              "['eat', 'sleep', 'code']"
            ]
          },
          "metadata": {},
          "execution_count": 34
        }
      ]
    },
    {
      "cell_type": "code",
      "source": [
        "s.pop()\n",
        "s"
      ],
      "metadata": {
        "colab": {
          "base_uri": "https://localhost:8080/"
        },
        "id": "kd3x5uyjkdWq",
        "outputId": "c947d53b-c7d8-416a-af06-09c63f70f9f4"
      },
      "execution_count": null,
      "outputs": [
        {
          "output_type": "execute_result",
          "data": {
            "text/plain": [
              "['eat', 'sleep']"
            ]
          },
          "metadata": {},
          "execution_count": 35
        }
      ]
    },
    {
      "cell_type": "code",
      "source": [
        "s.pop()\n",
        "s"
      ],
      "metadata": {
        "colab": {
          "base_uri": "https://localhost:8080/"
        },
        "id": "fzRGE4cXkiCH",
        "outputId": "5a1f3b57-e752-4c8a-80eb-50434653ce9a"
      },
      "execution_count": null,
      "outputs": [
        {
          "output_type": "execute_result",
          "data": {
            "text/plain": [
              "['eat']"
            ]
          },
          "metadata": {},
          "execution_count": 36
        }
      ]
    },
    {
      "cell_type": "code",
      "source": [
        "s.pop()\n",
        "s"
      ],
      "metadata": {
        "colab": {
          "base_uri": "https://localhost:8080/"
        },
        "id": "Ze5kDnIokm84",
        "outputId": "9ed531bc-d166-41c9-8eed-615a76a3d791"
      },
      "execution_count": null,
      "outputs": [
        {
          "output_type": "execute_result",
          "data": {
            "text/plain": [
              "[]"
            ]
          },
          "metadata": {},
          "execution_count": 37
        }
      ]
    },
    {
      "cell_type": "code",
      "source": [
        "s.pop()"
      ],
      "metadata": {
        "colab": {
          "base_uri": "https://localhost:8080/",
          "height": 141
        },
        "id": "hT-fSJinkok3",
        "outputId": "f706a769-cdeb-4096-8e48-ee77a9720e78"
      },
      "execution_count": null,
      "outputs": [
        {
          "output_type": "error",
          "ename": "IndexError",
          "evalue": "pop from empty list",
          "traceback": [
            "\u001b[0;31m---------------------------------------------------------------------------\u001b[0m",
            "\u001b[0;31mIndexError\u001b[0m                                Traceback (most recent call last)",
            "\u001b[0;32m<ipython-input-38-c88c8c48122b>\u001b[0m in \u001b[0;36m<cell line: 1>\u001b[0;34m()\u001b[0m\n\u001b[0;32m----> 1\u001b[0;31m \u001b[0ms\u001b[0m\u001b[0;34m.\u001b[0m\u001b[0mpop\u001b[0m\u001b[0;34m(\u001b[0m\u001b[0;34m)\u001b[0m\u001b[0;34m\u001b[0m\u001b[0;34m\u001b[0m\u001b[0m\n\u001b[0m",
            "\u001b[0;31mIndexError\u001b[0m: pop from empty list"
          ]
        }
      ]
    },
    {
      "cell_type": "markdown",
      "source": [
        "option 2"
      ],
      "metadata": {
        "id": "yGZOD_VRlHvz"
      }
    },
    {
      "cell_type": "code",
      "source": [
        "from collections import deque\n",
        "\n",
        "q = deque()\n",
        "\n",
        "q.append('eat')\n",
        "q.append('sleep')\n",
        "q.append('code')"
      ],
      "metadata": {
        "id": "Tpx_DlqslE-x"
      },
      "execution_count": null,
      "outputs": []
    },
    {
      "cell_type": "code",
      "source": [
        "q"
      ],
      "metadata": {
        "colab": {
          "base_uri": "https://localhost:8080/"
        },
        "id": "WJC-IA0glLj2",
        "outputId": "eb200294-b784-4e7c-b7ae-05e12b73b91f"
      },
      "execution_count": null,
      "outputs": [
        {
          "output_type": "execute_result",
          "data": {
            "text/plain": [
              "deque(['eat', 'sleep', 'code'])"
            ]
          },
          "metadata": {},
          "execution_count": 47
        }
      ]
    },
    {
      "cell_type": "code",
      "source": [
        "q.pop()\n",
        "q"
      ],
      "metadata": {
        "colab": {
          "base_uri": "https://localhost:8080/"
        },
        "id": "_Iru50j5lPkM",
        "outputId": "7dd07249-a48e-4264-8b0f-7b8fd938a1cb"
      },
      "execution_count": null,
      "outputs": [
        {
          "output_type": "execute_result",
          "data": {
            "text/plain": [
              "deque(['eat', 'sleep'])"
            ]
          },
          "metadata": {},
          "execution_count": 48
        }
      ]
    },
    {
      "cell_type": "code",
      "source": [
        "q.pop()\n",
        "q"
      ],
      "metadata": {
        "colab": {
          "base_uri": "https://localhost:8080/"
        },
        "id": "vyRl-3JmlRRP",
        "outputId": "1e2afcbd-efe6-49db-90f6-d750af854e6c"
      },
      "execution_count": null,
      "outputs": [
        {
          "output_type": "execute_result",
          "data": {
            "text/plain": [
              "deque(['eat'])"
            ]
          },
          "metadata": {},
          "execution_count": 49
        }
      ]
    },
    {
      "cell_type": "code",
      "source": [
        "q.pop()\n",
        "q"
      ],
      "metadata": {
        "colab": {
          "base_uri": "https://localhost:8080/"
        },
        "id": "AfXMT9mulTxi",
        "outputId": "4559e268-2bc2-4a84-f1c6-308a4e3ac556"
      },
      "execution_count": null,
      "outputs": [
        {
          "output_type": "execute_result",
          "data": {
            "text/plain": [
              "deque([])"
            ]
          },
          "metadata": {},
          "execution_count": 50
        }
      ]
    },
    {
      "cell_type": "code",
      "source": [
        "q.pop()\n",
        "q"
      ],
      "metadata": {
        "colab": {
          "base_uri": "https://localhost:8080/",
          "height": 159
        },
        "id": "ZnEQnzFAlZDD",
        "outputId": "58897c7d-10c0-47d4-d005-a0b50f50cc5a"
      },
      "execution_count": null,
      "outputs": [
        {
          "output_type": "error",
          "ename": "IndexError",
          "evalue": "pop from an empty deque",
          "traceback": [
            "\u001b[0;31m---------------------------------------------------------------------------\u001b[0m",
            "\u001b[0;31mIndexError\u001b[0m                                Traceback (most recent call last)",
            "\u001b[0;32m<ipython-input-51-de3268d1e287>\u001b[0m in \u001b[0;36m<cell line: 1>\u001b[0;34m()\u001b[0m\n\u001b[0;32m----> 1\u001b[0;31m \u001b[0mq\u001b[0m\u001b[0;34m.\u001b[0m\u001b[0mpop\u001b[0m\u001b[0;34m(\u001b[0m\u001b[0;34m)\u001b[0m\u001b[0;34m\u001b[0m\u001b[0;34m\u001b[0m\u001b[0m\n\u001b[0m\u001b[1;32m      2\u001b[0m \u001b[0mq\u001b[0m\u001b[0;34m\u001b[0m\u001b[0;34m\u001b[0m\u001b[0m\n",
            "\u001b[0;31mIndexError\u001b[0m: pop from an empty deque"
          ]
        }
      ]
    },
    {
      "cell_type": "markdown",
      "source": [
        "option 3 : custom method usong classes/objects"
      ],
      "metadata": {
        "id": "FQzYGoshlbch"
      }
    },
    {
      "cell_type": "code",
      "source": [
        "# define stack class\n",
        "class StackTOPn:\n",
        "  def __init__(self):\n",
        "    self.items = []\n",
        "\n",
        "  #for printing the stack contents\n",
        "  def __str__(self):\n",
        "    return ' '.join([str(i) for i in self.items])\n",
        "\n",
        "  def isEmpty(self):\n",
        "    return self.items == []\n",
        "\n",
        "  def push(self,item):\n",
        "    self.items.append(item)\n",
        "\n",
        "  def pop(self):\n",
        "    return self.items.pop()\n",
        "\n",
        "  def peek(self):\n",
        "    return self.items[len(self.items)-1]\n",
        "\n",
        "  def size(self):\n",
        "    return len(self.items)\n",
        "\n",
        "  def display_all_items(self):\n",
        "    return (self.items)\n"
      ],
      "metadata": {
        "id": "_nwZzlfelZ0l"
      },
      "execution_count": null,
      "outputs": []
    },
    {
      "cell_type": "code",
      "source": [
        "# inirialize a stack\n",
        "s = StackTOPn()"
      ],
      "metadata": {
        "id": "eC1P7qBelsMK"
      },
      "execution_count": null,
      "outputs": []
    },
    {
      "cell_type": "code",
      "source": [
        "print(s)"
      ],
      "metadata": {
        "colab": {
          "base_uri": "https://localhost:8080/"
        },
        "id": "at7Q7WSjmss0",
        "outputId": "d22e8059-8a8b-4bd9-9bb3-cc4aa87c23f9"
      },
      "execution_count": null,
      "outputs": [
        {
          "output_type": "stream",
          "name": "stdout",
          "text": [
            "\n"
          ]
        }
      ]
    },
    {
      "cell_type": "code",
      "source": [
        "s.isEmpty()"
      ],
      "metadata": {
        "colab": {
          "base_uri": "https://localhost:8080/"
        },
        "id": "3E14HuZomteG",
        "outputId": "b292095c-d16e-41ce-ea6b-a4ae46dc00a6"
      },
      "execution_count": null,
      "outputs": [
        {
          "output_type": "execute_result",
          "data": {
            "text/plain": [
              "True"
            ]
          },
          "metadata": {},
          "execution_count": 65
        }
      ]
    },
    {
      "cell_type": "code",
      "source": [
        "s.push('First')\n",
        "s.push('second')\n",
        "s.push('third')"
      ],
      "metadata": {
        "id": "uUGS9xgJmvfE"
      },
      "execution_count": null,
      "outputs": []
    },
    {
      "cell_type": "code",
      "source": [
        "print(s)"
      ],
      "metadata": {
        "colab": {
          "base_uri": "https://localhost:8080/"
        },
        "id": "bgJi-rY1m56A",
        "outputId": "fcd9276b-703c-4787-e595-38531bfb7031"
      },
      "execution_count": null,
      "outputs": [
        {
          "output_type": "stream",
          "name": "stdout",
          "text": [
            "First second third\n"
          ]
        }
      ]
    },
    {
      "cell_type": "code",
      "source": [
        "# get the recent item inserted\n",
        "print(s.peek())"
      ],
      "metadata": {
        "colab": {
          "base_uri": "https://localhost:8080/"
        },
        "id": "DTHMlNrim7Gz",
        "outputId": "d4af73a1-0338-48b6-b4f8-1945f89084cc"
      },
      "execution_count": null,
      "outputs": [
        {
          "output_type": "stream",
          "name": "stdout",
          "text": [
            "third\n"
          ]
        }
      ]
    },
    {
      "cell_type": "code",
      "source": [
        "# view the stack\n",
        "for item in s.display_all_items():\n",
        "  print(item)"
      ],
      "metadata": {
        "colab": {
          "base_uri": "https://localhost:8080/"
        },
        "id": "lfD50X20nAxJ",
        "outputId": "e149f74a-232f-4481-e6fb-4e3480e2845b"
      },
      "execution_count": null,
      "outputs": [
        {
          "output_type": "stream",
          "name": "stdout",
          "text": [
            "First\n",
            "second\n",
            "third\n"
          ]
        }
      ]
    },
    {
      "cell_type": "code",
      "source": [
        "# add a boolean\n",
        "\n",
        "s.push(True)"
      ],
      "metadata": {
        "id": "-IyPijpMnOkA"
      },
      "execution_count": null,
      "outputs": []
    },
    {
      "cell_type": "code",
      "source": [
        "print('size of stack = ', s.size())"
      ],
      "metadata": {
        "colab": {
          "base_uri": "https://localhost:8080/"
        },
        "id": "ap9Wq52cnvHm",
        "outputId": "8addcaed-dfea-43ad-9074-1105ef35546d"
      },
      "execution_count": null,
      "outputs": [
        {
          "output_type": "stream",
          "name": "stdout",
          "text": [
            "size of stack =  4\n"
          ]
        }
      ]
    },
    {
      "cell_type": "code",
      "source": [
        "s.push(8.4)\n",
        "s.display_all_items()"
      ],
      "metadata": {
        "colab": {
          "base_uri": "https://localhost:8080/"
        },
        "id": "DX4ftaBYn1Hq",
        "outputId": "728b0765-c771-4870-aa50-116d79c3de66"
      },
      "execution_count": null,
      "outputs": [
        {
          "output_type": "execute_result",
          "data": {
            "text/plain": [
              "['First', 'second', 'third', True, 8.4, 8.4, 8.4]"
            ]
          },
          "metadata": {},
          "execution_count": 74
        }
      ]
    },
    {
      "cell_type": "code",
      "source": [
        "# Last in first out\n",
        "s.pop()"
      ],
      "metadata": {
        "colab": {
          "base_uri": "https://localhost:8080/"
        },
        "id": "gUG8OH_fn4qB",
        "outputId": "5c1053d1-051d-4dc1-bcd9-8e05203e8b60"
      },
      "execution_count": null,
      "outputs": [
        {
          "output_type": "execute_result",
          "data": {
            "text/plain": [
              "8.4"
            ]
          },
          "metadata": {},
          "execution_count": 75
        }
      ]
    },
    {
      "cell_type": "code",
      "source": [
        "s.display_all_items()"
      ],
      "metadata": {
        "colab": {
          "base_uri": "https://localhost:8080/"
        },
        "id": "3TF9qbu2oCov",
        "outputId": "1d384466-6b63-49b5-c9d1-e8029b7a80c7"
      },
      "execution_count": null,
      "outputs": [
        {
          "output_type": "execute_result",
          "data": {
            "text/plain": [
              "['First', 'second', 'third', True, 8.4, 8.4]"
            ]
          },
          "metadata": {},
          "execution_count": 77
        }
      ]
    },
    {
      "cell_type": "markdown",
      "source": [
        "**Another implementation**\n",
        "\n",
        "---\n",
        " * TOP is the beginning of the list (0th element)\n"
      ],
      "metadata": {
        "id": "c3bBzh-YoIF1"
      }
    },
    {
      "cell_type": "code",
      "source": [
        "class StackTOP0:\n",
        "  def __init__(self):\n",
        "    self.items = []\n",
        "\n",
        "  def isEmpty(self):\n",
        "    return self.items == []\n",
        "\n",
        "  def push(self,item):\n",
        "    self.items.insert(0, item)\n",
        "\n",
        "  def pop(self):\n",
        "    return self.items.pop(0)\n",
        "\n",
        "  def peek(self):\n",
        "    return self.items[0]\n",
        "\n",
        "  def size(self):\n",
        "    return len(self.items)\n",
        "\n",
        "  def display_all_items(self):\n",
        "    return (self.items)"
      ],
      "metadata": {
        "id": "b1tHbMOHoExV"
      },
      "execution_count": null,
      "outputs": []
    },
    {
      "cell_type": "code",
      "source": [
        "stop0 = StackTOP0()"
      ],
      "metadata": {
        "id": "Fvr8nQRyo02_"
      },
      "execution_count": null,
      "outputs": []
    },
    {
      "cell_type": "code",
      "source": [
        "stop0.isEmpty()"
      ],
      "metadata": {
        "colab": {
          "base_uri": "https://localhost:8080/"
        },
        "id": "TXkOR-C3o3pD",
        "outputId": "2e6d4bc7-ed8f-4d87-ceab-3f3cbc3254ea"
      },
      "execution_count": null,
      "outputs": [
        {
          "output_type": "execute_result",
          "data": {
            "text/plain": [
              "True"
            ]
          },
          "metadata": {},
          "execution_count": 84
        }
      ]
    },
    {
      "cell_type": "code",
      "source": [
        "stop0.push('FIRST')\n",
        "stop0.push('SECOND')\n",
        "stop0.push('THIRD')"
      ],
      "metadata": {
        "id": "q3AoqN-wo6cP"
      },
      "execution_count": null,
      "outputs": []
    },
    {
      "cell_type": "code",
      "source": [
        "# get the recent item inserted\n",
        "print(stop0.peek())"
      ],
      "metadata": {
        "colab": {
          "base_uri": "https://localhost:8080/"
        },
        "id": "ZQ-N2COapJL5",
        "outputId": "1b6de951-5615-4ac3-b49c-7b1e34633d30"
      },
      "execution_count": null,
      "outputs": [
        {
          "output_type": "stream",
          "name": "stdout",
          "text": [
            "THIRD\n"
          ]
        }
      ]
    },
    {
      "cell_type": "code",
      "source": [
        "# view the stack\n",
        "for item in stop0.display_all_items():\n",
        "  print(item)"
      ],
      "metadata": {
        "colab": {
          "base_uri": "https://localhost:8080/"
        },
        "id": "gVkhqmxgpPLu",
        "outputId": "1f0f2849-a819-4c5f-d0d2-7cf79d99718e"
      },
      "execution_count": null,
      "outputs": [
        {
          "output_type": "stream",
          "name": "stdout",
          "text": [
            "THIRD\n",
            "SECOND\n",
            "FIRST\n"
          ]
        }
      ]
    },
    {
      "cell_type": "code",
      "source": [
        "# view the stack\n",
        "stop0.display_all_items()"
      ],
      "metadata": {
        "colab": {
          "base_uri": "https://localhost:8080/"
        },
        "id": "xQORd-q8pU7V",
        "outputId": "b81c5abf-492c-4b91-97d7-42bb3b00dfd0"
      },
      "execution_count": null,
      "outputs": [
        {
          "output_type": "execute_result",
          "data": {
            "text/plain": [
              "['THIRD', 'SECOND', 'FIRST']"
            ]
          },
          "metadata": {},
          "execution_count": 89
        }
      ]
    },
    {
      "cell_type": "code",
      "source": [
        "# Last in first out\n",
        "stop0.peek()"
      ],
      "metadata": {
        "colab": {
          "base_uri": "https://localhost:8080/",
          "height": 35
        },
        "id": "xuUmvf0MpdaM",
        "outputId": "879eda45-ad22-4f42-cd38-7d799641eaf1"
      },
      "execution_count": null,
      "outputs": [
        {
          "output_type": "execute_result",
          "data": {
            "text/plain": [
              "'THIRD'"
            ],
            "application/vnd.google.colaboratory.intrinsic+json": {
              "type": "string"
            }
          },
          "metadata": {},
          "execution_count": 90
        }
      ]
    },
    {
      "cell_type": "markdown",
      "source": [
        "**Excercise**"
      ],
      "metadata": {
        "id": "XFXA9pJZpk__"
      }
    },
    {
      "cell_type": "code",
      "source": [
        "# initiate a stack\n",
        "myStack = StackTOPn()\n",
        "\n",
        "input_string = 'vadodara'\n",
        "\n",
        "for ch in input_string:\n",
        "  myStack.push(ch)\n",
        "\n",
        "print(myStack.display_all_items())"
      ],
      "metadata": {
        "colab": {
          "base_uri": "https://localhost:8080/"
        },
        "id": "FhxwmVxkpjHn",
        "outputId": "b462411e-8a78-49af-e2f9-009b6d9b087f"
      },
      "execution_count": null,
      "outputs": [
        {
          "output_type": "stream",
          "name": "stdout",
          "text": [
            "['v', 'a', 'd', 'o', 'd', 'a', 'r', 'a']\n"
          ]
        }
      ]
    },
    {
      "cell_type": "code",
      "source": [
        "# get the reverse of the string\n",
        "rev_string = []\n",
        "rev_str = ''\n",
        "\n",
        "while not myStack.isEmpty():\n",
        "  pop_ch = myStack.pop()\n",
        "  rev_string.append(pop_ch)\n",
        "  rev_str += pop_ch\n",
        "\n",
        "print(rev_string)\n",
        "print(rev_str)"
      ],
      "metadata": {
        "colab": {
          "base_uri": "https://localhost:8080/"
        },
        "id": "9R4vUF0gp_eS",
        "outputId": "9890aff5-7c18-44a3-97c5-274c1e539ddd"
      },
      "execution_count": null,
      "outputs": [
        {
          "output_type": "stream",
          "name": "stdout",
          "text": [
            "['a', 'r', 'a', 'd', 'o', 'd', 'a', 'v']\n",
            "aradodav\n"
          ]
        }
      ]
    }
  ]
}